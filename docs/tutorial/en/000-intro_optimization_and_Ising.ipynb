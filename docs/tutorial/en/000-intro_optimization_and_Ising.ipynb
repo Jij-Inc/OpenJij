{
 "cells": [
  {
   "cell_type": "markdown",
   "metadata": {},
   "source": [
    "# 1-Introduction: Combinatorial optimization and Ising models\n",
    "This note explains some background on combinatorial optimization and optimization calculations using the Ising model.\\\n",
    "Please proceed from the next note to learn how to run OpenJij."
   ]
  },
  {
   "cell_type": "markdown",
   "metadata": {},
   "source": [
    "## What is Combinatorial Optimization?\n",
    "\n",
    "An optimization problem is the problem of finding the best solution that satisfies the constraints given in the problem.\\\n",
    "In particular, in the case of combinatorial optimization problems, the problem is to find the best combination of possible combinations.\n",
    "\n",
    "Examples are shown below."
   ]
  },
  {
   "cell_type": "markdown",
   "metadata": {},
   "source": [
    "## Examples of Combinatorial Optimization\n",
    "### Knapsack Problem\n",
    "Suppose a man finds $N$ treasures, each with a value of $c_i\\ (i \\in\\{0,1,\\dots,N-1\\})$ and a weight of $w_i$.\n",
    "Determining which teasures to put in his knapsack of capacity $W$ will maximize the total value is called the **knapsack problem**.\n",
    "\n",
    "Above we considered how to successfully pack in one single knapsack.\n",
    "When multiple knapsacks exist, the problem to find the minimum number of knapsacks that are needed to hold all $N$ treasures is called the **bin packing problem**.\n",
    "\n",
    "Packing rectangular boxes of random sizes into a container without each box being overlapped, as packing into a truck, is called the **rectangular packing problem**.\n",
    "Another similar problem called the Kepler conjucture is to find the proper way to pack spheres into an infinitely large box.\n",
    "\n",
    "### Traveling Salesman Problem\n",
    "Suppose a salesman travels once to each of $N$ cities to sell a product, and then returns to the city that he started.\n",
    "The problem to find the route with the shortest distance in order to reduce the cost of travel, is called the **traveling salesman problem**.\n",
    "\n",
    "The **traveling salesman problem with time windows** is the traveling salesman problem where the salesman has a fixed amount of time in each city for business meetings, and has specific appointment times to be in specific cities.\n",
    "\n",
    "Also, in the traveling salesman problem, there is only one salesman, but in the **vehicle routing problem**, for example, we consider a situation in which multiple vehicles travel around a city, such as having $M$ vehicles to deliver from a warehouse to $N$ destinations.\n",
    "\n",
    "### Graph Coloring Problems\n",
    "In this section, we consider the simplest graph coloring problems, the vertex coloring problem.\n",
    "The **vertex coloring problem** requires to assign a color to each vertex in such a way that colors on adjacent vertices are different and the number of colors used is minimized.\n",
    "If the given graph is a planar graph, this problem is related to the famous four-color theorem, which states that any map can be painted so that adjacent areas are of different colors.\n",
    "\n",
    "Also, Sudoku, one of the most famous puzzles, is a game in which $9$ of $9^times 9$ squares must be filled in appropriately so that the same number does not cover the vertical, horizontal, and $3^times 3$ areas of a $9^times 9$ square. Sudoku can be solved as a kind of graph coloring problem.\n",
    "\n",
    "As seen from the above examples, there are many combinatorial optimization problems that examine combinations and sequences, and there are also many problems related to the real world.\n",
    "\n",
    "In this note, we will discuss combinatorial optimization computation using the Ising model, but various other algorithms have been studied in the context of combinatorial optimization computation for a wide variety of problems[1]."
   ]
  },
  {
   "cell_type": "markdown",
   "metadata": {},
   "source": []
  },
  {
   "cell_type": "markdown",
   "metadata": {},
   "source": [
    "## References\n",
    "[1] Korte, Bernhard H., et al. Combinatorial optimization. Vol. 1. Heidelberg: Springer, 2011.\n",
    "\n",
    "[2] Kardar, Mehran. Statistical physics of fields. Cambridge University Press, 2007.\n",
    "\n",
    "[3] [Lucas, Andrew. \"Ising formulations of many NP problems.\" Frontiers in physics (2014): 5.](https://www.frontiersin.org/articles/10.3389/fphy.2014.00005/full?ref=https://githubhelp.com)\n",
    "\n",
    "[4] [Kirkpatrick, Scott, C. Daniel Gelatt Jr, and Mario P. Vecchi. \"Optimization by simulated annealing.\" science 220.4598 (1983): 671-680.](https://www.science.org/doi/abs/10.1126/science.220.4598.671)\n",
    "\n",
    "[5] [Geman, Stuart, and Donald Geman. \"Stochastic relaxation, Gibbs distributions, and the Bayesian restoration of images.\" IEEE Transactions on pattern analysis and machine intelligence 6 (1984): 721-741.](https://ieeexplore.ieee.org/document/4767596)\n",
    "\n",
    "[6] [Swendsen, Robert H., and Jian-Sheng Wang. \"Nonuniversal critical dynamics in Monte Carlo simulations.\" Physical review letters 58.2 (1987): 86.](https://journals.aps.org/prl/abstract/10.1103/PhysRevLett.58.86)\n",
    "\n",
    "[7] [Kadowaki, Tadashi, and Hidetoshi Nishimori. \"Quantum annealing in the transverse Ising model.\" Physical Review E 58.5 (1998): 5355.](https://journals.aps.org/pre/abstract/10.1103/PhysRevE.58.5355)\n",
    "\n",
    "\n",
    "[8] Tanaka, Shu, Ryo Tamura, and Bikas K. Chakrabarti. Quantum spin glasses, annealing and computation. Cambridge University Press, 2017."
   ]
  },
  {
   "cell_type": "markdown",
   "metadata": {},
   "source": []
  }
 ],
 "metadata": {
  "kernelspec": {
   "display_name": "Python 3 (ipykernel)",
   "language": "python",
   "name": "python3"
  },
  "language_info": {
   "codemirror_mode": {
    "name": "ipython",
    "version": 3
   },
   "file_extension": ".py",
   "mimetype": "text/x-python",
   "name": "python",
   "nbconvert_exporter": "python",
   "pygments_lexer": "ipython3",
   "version": "3.10.6"
  },
  "vscode": {
   "interpreter": {
    "hash": "2e8d7574d7ec71e14cb1575cf43673432d6fae464c836a7b3733d4f6c20243fb"
   }
  }
 },
 "nbformat": 4,
 "nbformat_minor": 4
}
