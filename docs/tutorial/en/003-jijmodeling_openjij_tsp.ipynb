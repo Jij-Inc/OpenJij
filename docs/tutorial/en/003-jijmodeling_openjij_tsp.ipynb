{
 "cells": [
  {
   "cell_type": "markdown",
   "metadata": {},
   "source": [
    "# Mathematical model formulation using JijModeling and optimization with OpenJij\n",
    "In this tutorial, we explain the process of formulating a mathematical model using [JijModeling](https://www.ref.documentation.jijzept.com/jijmodeling/), converting the mathematical model to QUBO, and solving it with OpenJij."
   ]
  },
  {
   "cell_type": "markdown",
   "metadata": {},
   "source": [
    "First, install the required packages.\n",
    "Install JijModeling, a module to easily build mathematical models, and [jijmodeling-transpiler](https://www.ref.documentation.jijzept.com/jijmodeling-transpiler/), a module for converting mathematical models using JijModeling to QUBO.\n",
    "These can be installed using `pip`."
   ]
  },
  {
   "cell_type": "code",
   "execution_count": 1,
   "metadata": {},
   "outputs": [],
   "source": [
    "# !pip install jijmodeling\n",
    "# !pip install jijmodeling-transpiler"
   ]
  },
  {
   "cell_type": "code",
   "execution_count": 2,
   "metadata": {},
   "outputs": [],
   "source": [
    "import jijmodeling as jm\n",
    "import numpy as np\n",
    "import matplotlib.pyplot as plt"
   ]
  },
  {
   "cell_type": "markdown",
   "metadata": {},
   "source": [
    "# Traveling Salesman Problem (TSP)\n",
    "We discuss the traveling salesman problem (TSP) as an example of a constrained optimization problem.\n",
    "Suppose a salesman travels once to each of the  cities to sell a product and then returns to the city he started from.\n",
    "The problem is to find the route with the shortest distance to reduce the cost of travel.\n",
    "\n",
    "### Constraints\n",
    "In this problem, there are two constraints: a location constraint, which states that a salesman can only visit each point once, and a time constraint, which states that since there is only one salesman, he can only be in one city at a given time.\n",
    "\n",
    "Using a binary variable with $x_{t,i}=1$ when visiting the $i$th city at time $t$ and $x_{t,i}=0$ otherwise, the above two constraints are:\n",
    "\n",
    "\n",
    "$$\\text{Location constraint : }\\sum_{t=1}^N x_{t,i}=1 \\quad \\forall i$$\n",
    "\n",
    "$$\\text{Time constraint : }\\sum_{i=1}^N x_{t,i}=1 \\quad \\forall t$$\n",
    "\n",
    "These are one-hot constraints.\n",
    "\n",
    "### Objective function\n",
    "TSP is a problem of finding the shortest route.\n",
    "Therefore, if $d_{ij}$ is the distance between points $i$ and $j$, the distance traveled when visiting city $i$ at time $t$ and city $j$ at time $t+1$ is:\n",
    "\n",
    "$$d_{ij}x_{t,i}x_{t+1,j}$$\n",
    "\n",
    "The sum of the above is:\n",
    "\n",
    "$$\\sum_{t=1}^N\\sum_{i=1}^N \\sum_{j=1}^N d_{ij}x_{t,i}x_{t+1,j}$$\n",
    "\n",
    "This is the total distance traveled, which is the objective function we wish to minimize."
   ]
  },
  {
   "cell_type": "markdown",
   "metadata": {},
   "source": [
    "To perform Ising optimization as described in the previous tutorials, a mathematical model with such constraints must be converted to an Ising Hamiltonian or QUBO Hamiltonian.\n",
    "Doing such work by hand is tedious and may introduce bugs between the actual mathematical model and QUBO.\n",
    "JijModeling can do all this work automatically.\n",
    "In other words, it can code the mathematical model constructed as described above and automatically convert it to QUBO.\n",
    "In this section, we explain how to use JijModeling to solve TSP."
   ]
  },
  {
   "cell_type": "markdown",
   "metadata": {},
   "source": [
    "## Building a mathematical model of the TSP using JijModeling\n",
    "First, we use JijModeling to describe the mathematical model of the problem.\n",
    "Unlike ordinary modelers for mathematical optimization calculations, JijModeling builds the mathematical model independently from the data of the problem instance.\n",
    "By constructing the mathematical model this way, the generality of the mathematical model can be ensured.\n",
    "Moreover, mathematical equations can be described intuitively, just like writing mathematical equations on paper.\n",
    "Furthermore, the mathematical model described in JijModeling can be checked in tex on the notebook.\n",
    "\n",
    "In this section, we construct mathematical models one by one with JijModeling."
   ]
  },
  {
   "cell_type": "markdown",
   "metadata": {},
   "source": [
    "First, let us define the variables and the constants of the problem."
   ]
  },
  {
   "cell_type": "code",
   "execution_count": 3,
   "metadata": {},
   "outputs": [],
   "source": [
    "dist = jm.Placeholder(\"dist\", dim=2)\n",
    "N = jm.Placeholder(\"N\")\n",
    "x = jm.Binary(\"x\", shape=(N, N))\n",
    "i = jm.Element(\"i\", (0,N))\n",
    "j = jm.Element(\"j\", (0,N))\n",
    "t = jm.Element(\"t\", (0,N))"
   ]
  },
  {
   "cell_type": "markdown",
   "metadata": {},
   "source": [
    "Here, `jm.Placeholder` represents a constant, which is the distance matrix and the number of cities.\n",
    "Various TSPs are represented by this distance matrix and the number of cities.\n",
    "\n",
    "Binary variables are represented by `jm.Binary`.\n",
    "Here we define a binary variable of $N\\times N$.\n",
    "Then, we use `jm.Element` to define the subscripts `i`,`j`,`t`.\n",
    "These are used to represent the range of sums.\n",
    "\n",
    "In JijModeling, we create a `jm.Problem` instance and add objective functions and constraints to it.\n",
    "Next, we will define the objective function using the variables we have defined."
   ]
  },
  {
   "cell_type": "code",
   "execution_count": 4,
   "metadata": {},
   "outputs": [
    {
     "data": {
      "text/latex": [
       "$$\\begin{alignat*}{4}\\text{Problem} & \\text{: TSP} \\\\\\min & \\quad \\sum_{ t = 0 }^{ N - 1 } \\sum_{ i = 0 }^{ N - 1 } \\sum_{ j = 0 }^{ N - 1 } dist_{i,j} \\cdot x_{t,i} \\cdot x_{\\left( t + 1 \\right) \\mod N,j} \\\\& x_{i_{0},i_{1}} \\in \\{0, 1\\}\\end{alignat*}$$"
      ],
      "text/plain": [
       "<jijmodeling.problem.problem.Problem at 0x11bb4cca0>"
      ]
     },
     "execution_count": 4,
     "metadata": {},
     "output_type": "execute_result"
    }
   ],
   "source": [
    "problem = jm.Problem(\"TSP\")\n",
    "obj = jm.Sum([t, i, j], dist[i, j] * x[t, i] * x[(t + 1) % N, j])\n",
    "problem += obj\n",
    "problem"
   ]
  },
  {
   "cell_type": "markdown",
   "metadata": {},
   "source": [
    "The sum can be expressed with `jm.Sum`.\n",
    "The first argument of `jm.Sum` is the indices to be summed, and since the objective function of TSP takes sums for three indices, we pass those indices (`jm.element`) in a list.\n",
    "\n",
    "Then, we add the constraint conditions."
   ]
  },
  {
   "cell_type": "code",
   "execution_count": 5,
   "metadata": {},
   "outputs": [],
   "source": [
    "# Constraint 1 : one-hot position constraint\n",
    "problem += jm.Constraint(\n",
    "            \"one-hot location\",\n",
    "            x[:, i] == 1,\n",
    "            forall=[i,],\n",
    "        )\n",
    "\n",
    "# Constraint 2 : one-hot time constraint\n",
    "problem += jm.Constraint(\n",
    "            \"one-hot time\",\n",
    "            x[t, :] == 1,\n",
    "            forall=[t,],\n",
    "        )"
   ]
  },
  {
   "cell_type": "markdown",
   "metadata": {},
   "source": [
    "Constraints can be expressed using `jm.Constraint`.\n",
    "The first argument is the name of the constraint condition, and the second argument is a mathematical expression of the constraint condition.\n",
    "\n",
    "This constraint has an optional argument, `forall`.\n",
    "This is a JijModeling argument that expresses what is expressed in a mathematical model as \"for any $i$\" or \"$\\forall i$\".\n",
    "\n",
    "Also, the notation `x[:,i]` that appears in the constraints is a sugar-coated syntax for writing `jm.Sum(t,x[t,i])`.\n",
    "\n",
    "Finally, let us check the mathematical model we have just described."
   ]
  },
  {
   "cell_type": "code",
   "execution_count": 6,
   "metadata": {},
   "outputs": [
    {
     "data": {
      "text/latex": [
       "$$\\begin{alignat*}{4}\\text{Problem} & \\text{: TSP} \\\\\\min & \\quad \\sum_{ t = 0 }^{ N - 1 } \\sum_{ i = 0 }^{ N - 1 } \\sum_{ j = 0 }^{ N - 1 } dist_{i,j} \\cdot x_{t,i} \\cdot x_{\\left( t + 1 \\right) \\mod N,j} \\\\\\text{s.t.} & \\\\& \\text{one-hot location} :\\\\ &\\quad \\quad \\sum_{ \\bar{i}_{0} = 0 }^{ N - 1 } x_{\\bar{i}_{0},i} = 1,\\ \\forall i \\in \\left\\{ 0 ,\\ldots , N - 1 \\right\\} \\\\[8pt]& \\text{one-hot time} :\\\\ &\\quad \\quad \\sum_{ \\bar{i}_{1} = 0 }^{ N - 1 } x_{t,\\bar{i}_{1}} = 1,\\ \\forall t \\in \\left\\{ 0 ,\\ldots , N - 1 \\right\\} \\\\[8pt]& x_{i_{0},i_{1}} \\in \\{0, 1\\}\\end{alignat*}$$"
      ],
      "text/plain": [
       "<jijmodeling.problem.problem.Problem at 0x11bb4cca0>"
      ]
     },
     "execution_count": 6,
     "metadata": {},
     "output_type": "execute_result"
    }
   ],
   "source": [
    "problem"
   ]
  },
  {
   "cell_type": "markdown",
   "metadata": {},
   "source": [
    "We see the same mathematical equations displayed as in the mathematical model used in the explanation.\n",
    "\n",
    "This completes the construction of the mathematical model.\n",
    "As above, JijModeling allows you to code mathematical models by comparing them with mathematical formulas."
   ]
  },
  {
   "cell_type": "markdown",
   "metadata": {},
   "source": [
    "## Creating the problem data\n",
    "Now that we have a mathematical model of the problem, the next step is to create data for the problem.\n",
    "Here we will solve a simple problem with 10 cities and random distances between cities."
   ]
  },
  {
   "cell_type": "code",
   "execution_count": 7,
   "metadata": {},
   "outputs": [
    {
     "data": {
      "text/plain": [
       "(0.0, 1.0)"
      ]
     },
     "execution_count": 7,
     "metadata": {},
     "output_type": "execute_result"
    },
    {
     "data": {
      "image/png": "[encoded data removed]",
      "text/plain": [
       "<Figure size 640x480 with 1 Axes>"
      ]
     },
     "metadata": {},
     "output_type": "display_data"
    }
   ],
   "source": [
    "N = 5\n",
    "np.random.seed(3)\n",
    "\n",
    "x_pos = np.random.rand(N) \n",
    "y_pos = np.random.rand(N) \n",
    "\n",
    "plt.plot(x_pos, y_pos, 'o')\n",
    "plt.xlim(0, 1)\n",
    "plt.ylim(0, 1)"
   ]
  },
  {
   "cell_type": "markdown",
   "metadata": {},
   "source": [
    "Since we assign the data to the `jm.Placeholder` to create the mathematical model, we need to pass the data in a dictionary type with the Placeholder's name as the key.\n",
    "In this problem, we need to pass values for `N` and `dist`."
   ]
  },
  {
   "cell_type": "code",
   "execution_count": 8,
   "metadata": {},
   "outputs": [
    {
     "data": {
      "text/plain": [
       "{'N': 5,\n",
       " 'dist': array([[0.        , 0.7866063 , 0.73643374, 0.84577089, 0.56967619],\n",
       "        [0.7866063 , 0.        , 0.4251585 , 0.21078131, 0.36540009],\n",
       "        [0.73643374, 0.4251585 , 0.        , 0.26950348, 0.64576184],\n",
       "        [0.84577089, 0.21078131, 0.26950348, 0.        , 0.54552992],\n",
       "        [0.56967619, 0.36540009, 0.64576184, 0.54552992, 0.        ]])}"
      ]
     },
     "execution_count": 8,
     "metadata": {},
     "output_type": "execute_result"
    }
   ],
   "source": [
    "XX, XX_T = np.meshgrid(x_pos, x_pos)\n",
    "YY, YY_T = np.meshgrid(y_pos, y_pos)\n",
    "distance = np.sqrt((XX - XX_T)**2 + (YY - YY_T)**2)\n",
    "instance_data = {\n",
    "    \"N\":N,\"dist\": distance\n",
    "}\n",
    "instance_data"
   ]
  },
  {
   "cell_type": "markdown",
   "metadata": {},
   "source": [
    "## Convert mathematical models to QUBO using JijModeling-Transpiler\n",
    "Now that the mathematical model and data are ready, we convert the mathematical model and data to QUBO using JijModeling-Transpiler.\n",
    "\n",
    "First, import `to_pyqubo`, a function to convert to QUBO."
   ]
  },
  {
   "cell_type": "code",
   "execution_count": 9,
   "metadata": {},
   "outputs": [],
   "source": [
    "from jijmodeling.transpiler.pyqubo import to_pyqubo"
   ]
  },
  {
   "cell_type": "markdown",
   "metadata": {},
   "source": [
    "We create a pyqubo object by giving this `to_pyqubo` a mathematical model and the data of the problem.\n",
    "Note that, if we want to fix some of the variables to a certain value, we can give them as the third variable in a dictionary type."
   ]
  },
  {
   "cell_type": "code",
   "execution_count": 10,
   "metadata": {},
   "outputs": [],
   "source": [
    "model,cache = to_pyqubo(problem,instance_data,{})"
   ]
  },
  {
   "cell_type": "markdown",
   "metadata": {},
   "source": [
    "To generate QUBO, we pass the magnitude of the coefficients of the constraints to the pyqubo object  and then use the `to_qubo` method."
   ]
  },
  {
   "cell_type": "code",
   "execution_count": 11,
   "metadata": {},
   "outputs": [],
   "source": [
    "multipliers = {\"one-hot location\":1.0,\"one-hot time\":1.0}\n",
    "Q,offset = model.compile().to_qubo(feed_dict = multipliers)"
   ]
  },
  {
   "cell_type": "markdown",
   "metadata": {},
   "source": [
    "We have successfully generated QUBO."
   ]
  },
  {
   "cell_type": "markdown",
   "metadata": {},
   "source": [
    "# Performing optimization using OpenJij\n",
    "Since QUBO has been obtained, optimization calculations can be performed as before using this QUBO."
   ]
  },
  {
   "cell_type": "code",
   "execution_count": 12,
   "metadata": {},
   "outputs": [],
   "source": [
    "import openjij as oj"
   ]
  },
  {
   "cell_type": "code",
   "execution_count": 13,
   "metadata": {},
   "outputs": [],
   "source": [
    "sampler = oj.SASampler(num_reads=100)\n",
    "res = sampler.sample_qubo(Q=Q)"
   ]
  },
  {
   "cell_type": "markdown",
   "metadata": {},
   "source": [
    "The JijModeling-Transpiler function will format the results obtained by optimization into a more readable form which is the [SampleSet](https://www.ref.documentation.jijzept.com/jijmodeling/reference/jijmodeling/#jijmodeling.SampleSet) class.\n",
    "Let us use the `decode` function.\n"
   ]
  },
  {
   "cell_type": "code",
   "execution_count": 14,
   "metadata": {
    "tags": []
   },
   "outputs": [],
   "source": [
    "result = cache.decode(res)\n",
    "# result"
   ]
  },
  {
   "cell_type": "markdown",
   "metadata": {},
   "source": [
    "`SampleSet.Record` mainly stores the solutions and the occurrences of the solutions.\n",
    "The obtained solution is contained in the `solution` which is in the `result.record` as a sparse matrix.\n",
    "The first two elements are critical: the first is the index in the matrix, and the second is the value of that index.\n",
    "In the case of a binary variable, only the value that is 1 is stored, so the value usually contains only 1.\n",
    "`SampleSet.lowest()` method extracts the solutions taking the minimum value of the objective functions among the feasible solutions.\n",
    "If there are multiple minimum values, `lowest()` method returns all these solutions."
   ]
  },
  {
   "cell_type": "code",
   "execution_count": 15,
   "metadata": {},
   "outputs": [
    {
     "data": {
      "text/plain": [
       "([1, 0, 2, 3, 4], [1, 3, 4, 0, 2])"
      ]
     },
     "execution_count": 15,
     "metadata": {},
     "output_type": "execute_result"
    }
   ],
   "source": [
    "sparse_index,value,_ = result.lowest().record.solution['x'][0]\n",
    "sparse_index"
   ]
  },
  {
   "cell_type": "markdown",
   "metadata": {},
   "source": [
    "In `result.evaluation`, there is energy, objective function, and constraint violation.\n",
    "These represent the evaluation values obtained by optimization.\n",
    "Here, we check whether the solution satisfies the constraints."
   ]
  },
  {
   "cell_type": "code",
   "execution_count": 16,
   "metadata": {},
   "outputs": [],
   "source": [
    "# result.evaluation.constraint_violations"
   ]
  },
  {
   "cell_type": "markdown",
   "metadata": {},
   "source": [
    "This shows that we have obtained a solution that satisfies the constraints.\n",
    "\n",
    "Let us visualize this solution.\n",
    "When plotting the route, we can get the order in which to move around the cities by sorting the city indices using the time-related indices."
   ]
  },
  {
   "cell_type": "code",
   "execution_count": 17,
   "metadata": {},
   "outputs": [
    {
     "data": {
      "text/plain": [
       "((0, 1, 2, 3, 4), (3, 1, 4, 0, 2))"
      ]
     },
     "execution_count": 17,
     "metadata": {},
     "output_type": "execute_result"
    }
   ],
   "source": [
    "time_indices, city_indices = zip(*sorted(zip(*sparse_index)))\n",
    "time_indices, city_indices"
   ]
  },
  {
   "cell_type": "code",
   "execution_count": 18,
   "metadata": {},
   "outputs": [
    {
     "data": {
      "text/plain": [
       "[<matplotlib.lines.Line2D at 0x1206db430>]"
      ]
     },
     "execution_count": 18,
     "metadata": {},
     "output_type": "execute_result"
    },
    {
     "data": {
      "image/png": "[encoded data removed]",
      "text/plain": [
       "<Figure size 640x480 with 1 Axes>"
      ]
     },
     "metadata": {},
     "output_type": "display_data"
    }
   ],
   "source": [
    "plt.plot(x_pos, y_pos, 'o',markersize=12)\n",
    "plt.xlim(0, 1)\n",
    "plt.ylim(0, 1)\n",
    "\n",
    "for i, city_index in enumerate(city_indices[:-1]):\n",
    "    next_city_index = city_indices[i+1]\n",
    "    plt.plot([x_pos[city_index],x_pos[next_city_index ]],[y_pos[city_index],y_pos[next_city_index ]],c = \"blue\")\n",
    "    \n",
    "plt.plot([x_pos[city_indices[-1]],x_pos[city_indices[0]]],[y_pos[city_indices[-1]],y_pos[city_indices[0]]],c = \"blue\")"
   ]
  },
  {
   "cell_type": "code",
   "execution_count": null,
   "metadata": {},
   "outputs": [],
   "source": []
  },
  {
   "cell_type": "code",
   "execution_count": null,
   "metadata": {},
   "outputs": [],
   "source": []
  }
 ],
 "metadata": {
  "kernelspec": {
   "display_name": "Python 3 (ipykernel)",
   "language": "python",
   "name": "python3"
  },
  "language_info": {
   "codemirror_mode": {
    "name": "ipython",
    "version": 3
   },
   "file_extension": ".py",
   "mimetype": "text/x-python",
   "name": "python",
   "nbconvert_exporter": "python",
   "pygments_lexer": "ipython3",
   "version": "3.9.15"
  },
  "vscode": {
   "interpreter": {
    "hash": "2e8d7574d7ec71e14cb1575cf43673432d6fae464c836a7b3733d4f6c20243fb"
   }
  }
 },
 "nbformat": 4,
 "nbformat_minor": 4
}
