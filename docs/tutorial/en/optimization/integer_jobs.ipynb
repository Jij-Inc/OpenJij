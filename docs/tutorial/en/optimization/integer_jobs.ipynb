{
 "cells": [
  {
   "cell_type": "markdown",
   "metadata": {},
   "source": [
    "# Job Sequencing Problem with Integer Lengths\n",
    "Here we show how to solve the job sequencing problems with integer lengths using OpenJij, [JijModeling](https://www.ref.documentation.jijzept.com/jijmodeling/), and [JijModeling Transpiler](https://www.ref.documentation.jijzept.com/jijmodeling-transpiler/). This problem is also mentioned in 6.3. Job Sequencing with Integer Lengths in [Lucas, 2014, \"Ising formulations of many NP problems\"](https://doi.org/10.3389/fphy.2014.00005)."
   ]
  },
  {
   "cell_type": "markdown",
   "metadata": {},
   "source": [
    "## Overview of the Job Sequencing Problem with Integer Lengths\n",
    "\n",
    "We consider several tasks with integer lengths (i.e., task 1 takes one hour to execute on a computer, task 2 takes three hours, and so on).\n",
    "When allocating these tasks to multiple computers to execute, the question is what combinations can be used to distribute the execution time of the computers without creating bias.\n",
    "\n",
    "### Example\n",
    "\n",
    "As an example of this problem, consider the following situation.\n",
    "\n",
    "> Here are 10 tasks and 3 computers. \n",
    "> The length of each of the 10 tasks is 1, 2, ..., 10.\n",
    "> Our goal is to assign these tasks to the computers and minimize the maximum amount of time the tasks take.\n",
    "> In this case, one of the optimal solution is $\\{1, 2, 7, 8\\}, \\{3, 4, 5, 6\\}$ and $\\{9, 10\\}$, whose maximum execution time of computers is 19.\n",
    "\n",
    "![](../../../assets/integer_jobs_01_en.png)"
   ]
  },
  {
   "cell_type": "markdown",
   "metadata": {},
   "source": [
    "### Generalizing the Problem\n",
    "Next, we introduce $N$ tasks $\\{0, 1, ..., N-1\\}$ and list of the execution time $\\boldsymbol{L} = \\{L_0, L_1, ..., L_{N-1}\\}$. \n",
    "Given $M$ computers, the total execution time of the $j$th computer to perform its assigned tasks is $A_j = \\sum_{i \\in V_j} L_i$ where $V_j$ is a set of assigned tasks to the $j$th computer.\n",
    "Finally, let us denote $x_{i, j}$ to be a binary variable which is 1 if the $i$th task is assigned to the $j$th computer, and 0 otherwise.\n",
    "\n",
    "#### Constraint\n",
    "Each task must be performed on one computer; for example, task 3 is not allowed to be executed on both computers 1 and 2.\n",
    "\n",
    "$$\n",
    "\\nonumber\n",
    "\\sum_{j=0}^{M-1} x_{i, j} = 1 \\quad (\\forall i \\in \\{ 0, 1, \\dots, N-1 \\})\n",
    "$$(1)\n",
    "\n",
    "#### Objective Function\n",
    "We consider the execution time of the $0$th computer as the reference and minimize the difference between that and others.\n",
    "This reduces the execution time variability and the tasks are distributed equally. Note that $A_j = \\sum_i L_i x_{ij}$.\n",
    "\n",
    "$$\n",
    "\\min \\quad \\sum_{j=1}^{M-1} (A_0 - A_j)^2\n",
    "$$(2)\n",
    "\n"
   ]
  },
  {
   "cell_type": "markdown",
   "metadata": {},
   "source": [
    "## Modeling by JijModeling\n",
    "\n",
    "Next, we show an implementation using JijModeling.\n",
    "We first define variables for the mathematical model described above."
   ]
  },
  {
   "cell_type": "code",
   "execution_count": 1,
   "metadata": {},
   "outputs": [],
   "source": [
    "import jijmodeling as jm\n",
    "\n",
    "\n",
    "# defin variables\n",
    "L = jm.Placeholder('L', dim=1)\n",
    "N = L.shape[0].set_latex('N')\n",
    "M = jm.Placeholder('M')\n",
    "x = jm.Binary('x', shape=(N, M))\n",
    "i = jm.Element('i', (0, N))\n",
    "j = jm.Element('j', (0, M))"
   ]
  },
  {
   "cell_type": "markdown",
   "metadata": {},
   "source": [
    "`L` is a one-dimensional array representing the execution time of each task.\n",
    "`N` denotes the number of tasks, and `M` is the number of computers.\n",
    "We define a two-dimensional binary variables `x`, and we set the subscripts `i` and `j` used in the mathematical model.\n",
    "\n",
    "### Constraint\n",
    "\n",
    "We implement the constraint in equation (1) as follows:"
   ]
  },
  {
   "cell_type": "code",
   "execution_count": 2,
   "metadata": {},
   "outputs": [],
   "source": [
    "# set problem\n",
    "problem = jm.Problem('Integer Jobs')\n",
    "# set constraint: job must be executed using a certain node\n",
    "problem += jm.Constraint('onehot', x[i, :]==1, forall=i)"
   ]
  },
  {
   "cell_type": "markdown",
   "metadata": {},
   "source": [
    "`x[v, :]` implements `Sum(n, x[v, n])` in a concise way."
   ]
  },
  {
   "cell_type": "markdown",
   "metadata": {},
   "source": [
    "### Objective Function\n",
    "\n",
    "Let us implement the objective function of equation (2).\n",
    "`Sum((j, j!=0), ...)` denotes taking the sum of all cases where j is not 0."
   ]
  },
  {
   "cell_type": "code",
   "execution_count": 3,
   "metadata": {},
   "outputs": [
    {
     "data": {
      "text/latex": [
       "$$\\begin{alignat*}{4}\\text{Problem} & \\text{: Integer Jobs} \\\\\\min & \\quad \\sum_{ j = 0,\\ j \\neq 0 }^{ M - 1 } \\left( \\sum_{ i = 0 }^{ N - 1 } L_{i} \\cdot x_{i,0} - \\sum_{ i = 0 }^{ N - 1 } L_{i} \\cdot x_{i,j} \\right) ^ { 2 } \\\\\\text{s.t.} & \\\\& \\text{onehot} :\\\\ &\\quad \\quad \\sum_{ \\bar{i}_{1} = 0 }^{ M - 1 } x_{i,\\bar{i}_{1}} = 1,\\ \\forall i \\in \\left\\{ 0 ,\\ldots , N - 1 \\right\\} \\\\[8pt]& x_{i_{0},i_{1}} \\in \\{0, 1\\}\\end{alignat*}$$"
      ],
      "text/plain": [
       "<jijmodeling.problem.problem.Problem at 0x11214fb50>"
      ]
     },
     "execution_count": 3,
     "metadata": {},
     "output_type": "execute_result"
    }
   ],
   "source": [
    "# set objective function: minimize difference between node 0 and others\n",
    "A_0 = jm.Sum(i, L[i]*x[i, 0])\n",
    "A_j = jm.Sum(i, L[i]*x[i, j])\n",
    "problem += jm.Sum((j, j!=0), (A_0 - A_j) ** 2)\n",
    "problem"
   ]
  },
  {
   "cell_type": "markdown",
   "metadata": {},
   "source": [
    "### Instance\n",
    "\n",
    "Here we set the execution time of each job and the number of computers. We use the same values from the example mentioned."
   ]
  },
  {
   "cell_type": "code",
   "execution_count": 4,
   "metadata": {},
   "outputs": [],
   "source": [
    "# set a list of jobs\n",
    "inst_L = [1, 2, 3, 4, 5, 6, 7, 8, 9, 10]\n",
    "# set the number of Nodes\n",
    "inst_M = 3\n",
    "instance_data = {'L': inst_L, 'M': inst_M}"
   ]
  },
  {
   "cell_type": "markdown",
   "metadata": {},
   "source": [
    "### Undefined Multiplier\n",
    "This problem has one constraint, and we need to set the weight of that constraint.\n",
    "We will set it to match the name we gave in the `Constraint` part earlier using a dictionary type."
   ]
  },
  {
   "cell_type": "code",
   "execution_count": 5,
   "metadata": {},
   "outputs": [],
   "source": [
    "# set multipliers\n",
    "lam1 = 1.0\n",
    "multipliers = {'onehot': lam1}"
   ]
  },
  {
   "cell_type": "markdown",
   "metadata": {},
   "source": [
    "### Conversion to PyQUBO by JijModeling Transpiler\n",
    "\n",
    "JijModeling has executed all the implementations so far.\n",
    "By converting this to [PyQUBO](https://pyqubo.readthedocs.io/en/latest/), it is possible to perform combinatorial optimization calculations using OpenJij and other solvers."
   ]
  },
  {
   "cell_type": "code",
   "execution_count": 6,
   "metadata": {},
   "outputs": [],
   "source": [
    "from jijmodeling.transpiler.pyqubo import to_pyqubo\n",
    "\n",
    "# convert to pyqubo\n",
    "pyq_model, pyq_chache = to_pyqubo(problem, instance_data, {})\n",
    "qubo, bias = pyq_model.compile().to_qubo(feed_dict=multipliers)"
   ]
  },
  {
   "cell_type": "markdown",
   "metadata": {},
   "source": [
    "The PyQUBO model is created by `to_pyqubo` with the `problem` created by JijModeling and the `instance_data` we set to a value as arguments.\n",
    "Next, we compile it into a QUBO model that can be computed by OpenJij or other solver.\n",
    "\n",
    "### Optimization by OpenJij\n",
    "\n",
    "This time, we will use OpenJij's simulated annealing to solve the optimization problem.\n",
    "We set the `SASampler` and input the QUBO into that sampler to get the result of the calculation."
   ]
  },
  {
   "cell_type": "code",
   "execution_count": 21,
   "metadata": {},
   "outputs": [],
   "source": [
    "import openjij as oj\n",
    "\n",
    "# set sampler\n",
    "sampler = oj.SASampler(num_reads=100)\n",
    "# solve problem\n",
    "response = sampler.sample_qubo(qubo)"
   ]
  },
  {
   "cell_type": "markdown",
   "metadata": {},
   "source": [
    "### Decoding and Displaying the Solution\n",
    "\n",
    "Decode the returned results to facilitate analysis."
   ]
  },
  {
   "cell_type": "code",
   "execution_count": 22,
   "metadata": {},
   "outputs": [],
   "source": [
    "# decode solution\n",
    "result = pyq_chache.decode(response)"
   ]
  },
  {
   "cell_type": "markdown",
   "metadata": {},
   "source": [
    "From the results thus obtained, we can see how the task execution is distributed."
   ]
  },
  {
   "cell_type": "code",
   "execution_count": 29,
   "metadata": {},
   "outputs": [
    {
     "data": {
      "image/png": "[encoded data removed]",
      "text/plain": [
       "<Figure size 640x480 with 1 Axes>"
      ]
     },
     "metadata": {},
     "output_type": "display_data"
    }
   ],
   "source": [
    "import matplotlib.pyplot as plt\n",
    "import numpy as np\n",
    "\n",
    "# extract feasible solution\n",
    "feasibles = result.feasible()\n",
    "# get the index of the lowest objective function\n",
    "objectives = np.array(feasibles.evaluation.objective)\n",
    "lowest_index = np.argmin(objectives)\n",
    "# get indices of x = 1\n",
    "indices, _, _ = feasibles.record.solution['x'][lowest_index]\n",
    "# get task number and execution node\n",
    "tasks, nodes = indices\n",
    "# get instance information\n",
    "L = instance_data['L']\n",
    "M = instance_data['M']\n",
    "# initialize execution time\n",
    "exec_time = np.zeros(M, dtype=np.int64)\n",
    "# compute summation of execution time each nodes\n",
    "for i, j in zip(tasks, nodes):\n",
    "    plt.barh(j, L[i], left=exec_time[j],ec=\"k\", linewidth=1,alpha=0.8)\n",
    "    plt.text(exec_time[j] + L[i] / 2.0 - 0.25 ,j-0.05, str(i+1),fontsize=12)\n",
    "    exec_time[j] += L[i]\n",
    "plt.yticks(range(M))\n",
    "plt.ylabel('Computer numbers')\n",
    "plt.xlabel('Execution time')\n",
    "plt.show()"
   ]
  },
  {
   "cell_type": "markdown",
   "metadata": {},
   "source": [
    "With the above visualization, we obtain a graph where the execution times of three computers are approximately equal.\n",
    "The maximum value is 19, as explained at the beginning."
   ]
  },
  {
   "cell_type": "code",
   "execution_count": null,
   "metadata": {},
   "outputs": [],
   "source": []
  }
 ],
 "metadata": {
  "kernelspec": {
   "display_name": "Python 3 (ipykernel)",
   "language": "python",
   "name": "python3"
  },
  "language_info": {
   "codemirror_mode": {
    "name": "ipython",
    "version": 3
   },
   "file_extension": ".py",
   "mimetype": "text/x-python",
   "name": "python",
   "nbconvert_exporter": "python",
   "pygments_lexer": "ipython3",
   "version": "3.9.15"
  },
  "vscode": {
   "interpreter": {
    "hash": "2e8d7574d7ec71e14cb1575cf43673432d6fae464c836a7b3733d4f6c20243fb"
   }
  }
 },
 "nbformat": 4,
 "nbformat_minor": 4
}
