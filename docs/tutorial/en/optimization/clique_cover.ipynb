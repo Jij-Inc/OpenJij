{
 "cells": [
  {
   "cell_type": "markdown",
   "metadata": {},
   "source": [
    "# Clique Cover Problem\n",
    "Here we show how to solve the clique cover problem using OpenJij, [JijModeling](https://www.ref.documentation.jijzept.com/jijmodeling/), and [JijModeling Transpiler](https://www.ref.documentation.jijzept.com/jijmodeling-transpiler/). This problem is also mentioned in 6.2. Clique Cover in [Lucas, 2014, \"Ising formulations of many NP problems\"](https://doi.org/10.3389/fphy.2014.00005)."
   ]
  },
  {
   "cell_type": "markdown",
   "metadata": {},
   "source": [
    "## Overview of the Clique Cover Problem\n",
    "\n",
    "The clique covering problem is to determine whether, given a graph and an integer $n$, the graph can be partitioned into $n$ cliques (complete graphs).\n",
    "\n",
    "### Complete Graph\n",
    "\n",
    "A complete graph is a graph whose two vertices are all adjacent to each other (not including loops or multiple edges).\n",
    "We show two examples below.\n",
    "\n",
    "![](../../../assets/clique_cover_01.png)\n",
    "\n",
    "As mentioned, a vertex in a complete graph is adjacent to all other vertices. \n",
    "A complete undirected graph $G = (V, E)$ has ${}_V C_2 = \\frac{1}{2} V(V-1)$ edges, which shows that the number of edges is equal to the number of combinations choosing two vertices from $V$.\n",
    "Based on minimizing the difference in the number of edges from a complete graph, we describe a mathematical model for the clique cover problem.\n",
    "\n",
    "\n",
    "### Binary Variable\n",
    "\n",
    "We introduce a binary variable $x_{v, n}$ such that $x_{v, n}$ is 1 if the vertex $v$ belongs to the $n$th clique and 0 otherwise.\n",
    "\n",
    "### Constraint\n",
    "Each vertex can belong to only one clique, meaning that the graph is divided into $N$ cliques:\n",
    "\n",
    "$$\n",
    "\\sum_{n=0}^{N-1} x_{v, c} = 1 \\quad (\\forall v \\in V)\n",
    "$$(1)\n",
    "\n",
    "### Objective Function\n",
    "Let us consider the $n$th subgraph $G (V_n, E_n)$.\n",
    "The number of vertices is $V_n = \\sum_v x_{v,n}$. \n",
    "If this subgraph is complete, the number of edges of this subgraph is $\\frac{1}{2} V_n (V_n -1)$ from the previous discussion. \n",
    "The number of edges can actually be written as $\\sum_{(uv) \\in E_n} x_{u, n} x_{v, n}$.\n",
    "The subgraph $G$ is neatly divided into cliques when the difference between these two approaches is zero.\n",
    "Therefore, we set the objective function as follows:\n",
    "\n",
    "$$\n",
    "\\mathbf{obj} \n",
    "= \\sum_{n=0}^{N-1} \\left\\{ \\frac{1}{2} \\left( \\sum_{v=0}^{V-1} x_{v, n} \\right) \\left( \\sum_{v=0}^{V-1} x_{v, n} -1\\right) - \\sum_{(uv) \\in E} x_{u, n} x_{v, n} \\right\\}\n",
    "$$(2)"
   ]
  },
  {
   "cell_type": "markdown",
   "metadata": {},
   "source": [
    "## Modeling by JijModeling\n",
    "\n",
    "Next, we show an implementation using JijModeling.\n",
    "We first define variables for the mathematical model described above.\n",
    "\n",
    "### Variables\n",
    "\n",
    "Let us define the variables used in expressions (1) and (2) as follows:"
   ]
  },
  {
   "cell_type": "code",
   "execution_count": 1,
   "metadata": {},
   "outputs": [],
   "source": [
    "import jijmodeling as jm\n",
    "\n",
    "# define variables\n",
    "V = jm.Placeholder('V')\n",
    "E = jm.Placeholder('E', dim=2)\n",
    "N = jm.Placeholder('N')\n",
    "x = jm.Binary('x', shape=(V, N))\n",
    "n = jm.Element('n', (0, N))\n",
    "v = jm.Element('v', (0, V))\n",
    "e = jm.Element('e', E)"
   ]
  },
  {
   "cell_type": "markdown",
   "metadata": {},
   "source": [
    "`V=jm.Placeholder('V')` defines the number of vertices in the graph and `E=jm.Placeholder('E', dim=2)` defines the graph's edge set. `N=jm.Placeholder('N')` determines how many cliques the graph is divided into, and `V, N` is used to define the binary variable $x_{v, n}$ as `x=jm.Binary('x', shape=(V, N))`.\n",
    "`n, v` is the variable used to index the binary variable, and `e` is the variable for the edge.\n",
    "`e[0], e[1]` are the vertices located at both ends of edge `e`, which makes $(uv) = (e[0] e[1])$.\n",
    "\n",
    "### Constraints\n",
    "\n",
    "Let us implement the constraint in expression (1)."
   ]
  },
  {
   "cell_type": "code",
   "execution_count": 6,
   "metadata": {},
   "outputs": [],
   "source": [
    "# set problem\n",
    "problem = jm.Problem('Clique Cover')\n",
    "# set one-hot constraint: each vertex has only one color\n",
    "problem += jm.Constraint('color', x[v, :]==1, forall=v)"
   ]
  },
  {
   "cell_type": "markdown",
   "metadata": {},
   "source": [
    "`x[v, :]` implements `Sum(n, x[v, n])` in a concise way."
   ]
  },
  {
   "cell_type": "markdown",
   "metadata": {},
   "source": [
    "### Objective Function\n",
    "\n",
    "Let us implement the objective function of expression (2)."
   ]
  },
  {
   "cell_type": "code",
   "execution_count": 7,
   "metadata": {},
   "outputs": [
    {
     "data": {
      "text/latex": [
       "$$\\begin{alignat*}{4}\\text{Problem} & \\text{: Clique Cover} \\\\\\min & \\quad \\sum_{ n = 0 }^{ N - 1 } \\left( \\frac{ \\sum_{ \\bar{i}_{0} = 0 }^{ V - 1 } x_{\\bar{i}_{0},n} \\cdot \\left( \\sum_{ \\bar{i}_{0} = 0 }^{ V - 1 } x_{\\bar{i}_{0},n} - 1 \\right) }{ 2 } - \\sum_{ e \\in E } x_{e_{0},n} \\cdot x_{e_{1},n} \\right) \\\\\\text{s.t.} & \\\\& \\text{color} :\\\\ &\\quad \\quad \\sum_{ \\bar{i}_{1} = 0 }^{ N - 1 } x_{v,\\bar{i}_{1}} = 1,\\ \\forall v \\in \\left\\{ 0 ,\\ldots , V - 1 \\right\\} \\\\[8pt]& x_{i_{0},i_{1}} \\in \\{0, 1\\}\\end{alignat*}$$"
      ],
      "text/plain": [
       "<jijmodeling.problem.problem.Problem at 0x114ddad00>"
      ]
     },
     "execution_count": 7,
     "metadata": {},
     "output_type": "execute_result"
    }
   ],
   "source": [
    "# set objective function: minimize the difference in the number of edges from complete graph\n",
    "clique = x[:, n] * (x[:, n]-1) / 2\n",
    "num_e = jm.Sum(e, x[e[0], n]*x[e[1], n])\n",
    "problem += jm.Sum(n, clique-num_e)\n",
    "problem"
   ]
  },
  {
   "cell_type": "markdown",
   "metadata": {},
   "source": [
    "With `clique`, we calculate the number of edges if the vertex had created a clique. The next `num_e` is the calculated number of edges that the vertex has. Finally, the sum of the differences is added as the objective function."
   ]
  },
  {
   "cell_type": "markdown",
   "metadata": {},
   "source": [
    "### Instance\n",
    "\n",
    "Here we prepare a graph using [NetworkX](https://networkx.org/)."
   ]
  },
  {
   "cell_type": "code",
   "execution_count": 9,
   "metadata": {},
   "outputs": [],
   "source": [
    "import networkx as nx\n",
    "\n",
    "# set the number of colors\n",
    "inst_N = 3\n",
    "# set empty graph\n",
    "inst_G = nx.Graph()\n",
    "# add edges\n",
    "inst_E = [[0, 1], [1, 2], [0, 2], \n",
    "            [3, 4], [4, 5], [5, 6], [3, 6], [3, 5], [4, 6], \n",
    "            [7, 8], [8, 9], [7, 9], \n",
    "            [1, 3], [2, 6], [5, 7], [5, 9]]\n",
    "inst_G.add_edges_from(inst_E)\n",
    "# get the number of nodes\n",
    "inst_V = list(inst_G.nodes)\n",
    "num_V = len(inst_V)\n",
    "instance_data = {'N': inst_N, 'V': num_V, 'E': inst_E}"
   ]
  },
  {
   "cell_type": "markdown",
   "metadata": {},
   "source": [
    "The graph set up by this instance is as follows."
   ]
  },
  {
   "cell_type": "code",
   "execution_count": 10,
   "metadata": {},
   "outputs": [
    {
     "data": {
      "image/png": "[encoded data removed]",
      "text/plain": [
       "<Figure size 640x480 with 1 Axes>"
      ]
     },
     "metadata": {},
     "output_type": "display_data"
    }
   ],
   "source": [
    "import matplotlib.pyplot as plt\n",
    "\n",
    "nx.draw_networkx(inst_G, with_labels=True)\n",
    "plt.show()"
   ]
  },
  {
   "cell_type": "markdown",
   "metadata": {},
   "source": [
    "This graph consists of three cliques (0, 1, 2), (3, 4, 5, 6), and(7, 8, 9)."
   ]
  },
  {
   "cell_type": "markdown",
   "metadata": {},
   "source": [
    "### Undetermined Multiplier\n",
    "\n",
    "This problem has one constraint, and we need to set the weight of that constraint.\n",
    "We will set it to match the name we gave in the `Constraint` part earlier using a dictionary type."
   ]
  },
  {
   "cell_type": "code",
   "execution_count": 11,
   "metadata": {},
   "outputs": [],
   "source": [
    "# set multipliers\n",
    "lam1 = 1.1\n",
    "multipliers = {'color': lam1}"
   ]
  },
  {
   "cell_type": "markdown",
   "metadata": {},
   "source": [
    "### Conversion to PyQUBO by JijModeling Transpiler\n",
    "\n",
    "JijModeling has executed all the implementations so far.\n",
    "By converting this to [PyQUBO](https://pyqubo.readthedocs.io/en/latest/), it is possible to perform combinatorial optimization calculations using OpenJij and other solvers."
   ]
  },
  {
   "cell_type": "code",
   "execution_count": 12,
   "metadata": {},
   "outputs": [],
   "source": [
    "from jijmodeling.transpiler.pyqubo import to_pyqubo\n",
    "\n",
    "# convert to pyqubo\n",
    "pyq_model, pyq_chache = to_pyqubo(problem, instance_data, {})\n",
    "qubo, bias = pyq_model.compile().to_qubo(feed_dict=multipliers)"
   ]
  },
  {
   "cell_type": "markdown",
   "metadata": {},
   "source": [
    "The PyQUBO model is created by `to_pyqubo` with the `problem` created by JijModeling and the `instance_data` we set to a value as arguments.\n",
    "Next, we compile it into a QUBO model that can be computed by OpenJij or other solver.\n",
    "\n",
    "### Optimization by OpenJij\n",
    "\n",
    "This time, we will use OpenJij's simulated annealing to solve the optimization problem.\n",
    "We set the `SASampler` and input the QUBO into that sampler to get the result of the calculation."
   ]
  },
  {
   "cell_type": "code",
   "execution_count": 13,
   "metadata": {},
   "outputs": [],
   "source": [
    "import openjij as oj\n",
    "\n",
    "# set sampler\n",
    "sampler = oj.SASampler()\n",
    "# solve problem\n",
    "response = sampler.sample_qubo(qubo, num_reads=100)"
   ]
  },
  {
   "cell_type": "markdown",
   "metadata": {},
   "source": [
    "### Decoding and Displaying the Solution\n",
    "\n",
    "Decode the returned results to facilitate analysis."
   ]
  },
  {
   "cell_type": "code",
   "execution_count": 14,
   "metadata": {},
   "outputs": [],
   "source": [
    "# decode solution\n",
    "result = pyq_chache.decode(response)"
   ]
  },
  {
   "cell_type": "markdown",
   "metadata": {},
   "source": [
    "From the result thus obtained, let us visualize the graph.\n",
    "By using `result.feasible()`, only feasible solutions can be extracted.\n",
    "From here, the process of coloring the vertices for each clique is performed."
   ]
  },
  {
   "cell_type": "code",
   "execution_count": 18,
   "metadata": {},
   "outputs": [
    {
     "name": "stdout",
     "output_type": "stream",
     "text": [
      "Objective: 0.0\n"
     ]
    },
    {
     "data": {
      "image/png": "[encoded data removed]",
      "text/plain": [
       "<Figure size 640x480 with 1 Axes>"
      ]
     },
     "metadata": {},
     "output_type": "display_data"
    }
   ],
   "source": [
    "# extract feasible solution\n",
    "feasible = result.feasible()\n",
    "if feasible.evaluation.objective == []:\n",
    "    print('No feasible solution found ...')\n",
    "else:\n",
    "    print(\"Objective: \"+str(feasible.evaluation.objective[0]))\n",
    "    # get indices of x = 1\n",
    "    indices, _, _ = feasible.record.solution['x'][0]\n",
    "    # get vertex number and color\n",
    "    vertices, colors = indices\n",
    "    # sort lists by vertex number\n",
    "    zip_lists = zip(vertices, colors)\n",
    "    zip_sort = sorted(zip_lists)\n",
    "    sorted_vertices, sorted_colors = zip(*zip_sort)\n",
    "    # initialize vertex color list\n",
    "    node_colors = [-1] * len(vertices)\n",
    "    # set color list for visualization\n",
    "    colorlist = ['gold', 'violet', 'limegreen']    \n",
    "    # set vertex color list\n",
    "    for i, j in zip(sorted_vertices, sorted_colors):\n",
    "        node_colors[i] = colorlist[j]\n",
    "    # make figure\n",
    "    fig = plt.figure()\n",
    "    nx.draw_networkx(inst_G, node_color=node_colors, with_labels=True)\n",
    "    plt.show()"
   ]
  },
  {
   "cell_type": "markdown",
   "metadata": {},
   "source": [
    "It is correctly divided into cliques.\n",
    "We recommend you try more complex graphs."
   ]
  }
 ],
 "metadata": {
  "kernelspec": {
   "display_name": "Python 3 (ipykernel)",
   "language": "python",
   "name": "python3"
  },
  "language_info": {
   "codemirror_mode": {
    "name": "ipython",
    "version": 3
   },
   "file_extension": ".py",
   "mimetype": "text/x-python",
   "name": "python",
   "nbconvert_exporter": "python",
   "pygments_lexer": "ipython3",
   "version": "3.9.15"
  },
  "vscode": {
   "interpreter": {
    "hash": "2e8d7574d7ec71e14cb1575cf43673432d6fae464c836a7b3733d4f6c20243fb"
   }
  }
 },
 "nbformat": 4,
 "nbformat_minor": 4
}
