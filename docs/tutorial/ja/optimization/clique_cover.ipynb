{
 "cells": [
  {
   "cell_type": "markdown",
   "metadata": {},
   "source": [
    "# クリーク被覆問題\n",
    "\n",
    "こちらでは、[Lucas, 2014, \"Ising formulations of many NP problems\"](https://doi.org/10.3389/fphy.2014.00005)の 6.2. Clique Cover を OpenJij と [JijModeling](https://www.ref.documentation.jijzept.com/jijmodeling/)、そして[JijModeling transpiler](https://www.ref.documentation.jijzept.com/jijmodeling-transpiler/) を用いて解く方法をご紹介します。\n",
    "\n",
    "\n",
    "## 概要: クリーク被覆問題\n",
    "\n",
    "クリーク被覆問題は、あるグラフと整数nが与えられた時に、グラフをn個のクリーク（完全グラフ）に分割できるかを決定する問題です。\n",
    "\n",
    "### 完全グラフ\n",
    "\n",
    "完全グラフ(complete graph)とは、相異なる2点が全て隣接しているグラフ(ただしループや多重辺を含まない)構造のことです。具体的には以下のようなものを指します。\n",
    "\n",
    "![](../../../assets/clique_cover_01.png)\n",
    "\n",
    "完全グラフは、そこに含まれる2点を選んだときに、その2点が必ず辺で結ばれているような構造を持ちます。完全グラフの頂点数を$N$とすると、辺の数は$V$個の頂点から2つを選ぶ組合せの数${}_V C_2 = \\frac{1}{2} V (V-1)$だけあることがわかります。  \n",
    "完全グラフとの差が小さくなるように、最適化問題を定式化していきましょう。\n",
    "\n",
    "### バイナリ変数\n",
    "\n",
    "頂点$v$が$n$番目のクリークに属するとき1、そうでないとき0となるようなバイナリ変数$x_{v, n}$を定義します。\n",
    "\n",
    "### 制約: 頂点は1つのクリークにしか所属できない\n",
    "\n",
    "グラフを$N$個のクリークに分けることを考えると\n",
    "\n",
    "$$\n",
    "\\sum_{n=0}^{N-1} x_{v, n} = 1 \\quad (\\forall v \\in V) \\tag{1}\n",
    "$$\n",
    "\n",
    "### 目的関数: 完全グラフとの差を最小にする\n",
    "\n",
    "$n$番目のクリークに塗り分けられた部分の頂点数を$V_n (=\\sum_v x_{v, n})$とすると、この頂点たちが完全グラフを形成しているならば、その辺の数は$\\frac{1}{2} V_n (V_n-1)$となります。しかし、$n$番目のクリークに属する頂点が実際に形成する辺の数は、グラフの辺集合$E$を用いて$\\sum_{(uv) \\in E} x_{u, n} x_{v, n}$のように書かれます。この2つの差が0に近いほど、綺麗にグラフがクリークに分けれていることになります。よって目的関数は\n",
    "\n",
    "$$\n",
    "\\mathrm{obj} = \\sum_{n=0}^{N-1} \\left\\{ \\frac{1}{2} \\left( \\sum_{v=0}^{V-1} x_{v, n}\\right) \\left( \\sum_{v=0}^{V-1} x_{v, n}-1\\right) - \\sum_{(uv) \\in E}x_{u, n} x_{v, n}\\right\\} \\tag{2}\n",
    "$$"
   ]
  },
  {
   "cell_type": "markdown",
   "metadata": {},
   "source": [
    "## JijModelingによるモデル構築\n",
    "\n",
    "### クリーク被覆問題で用いる変数を定義\n",
    "\n",
    "式(1), (2)で用いられている変数を、以下のようにして定義しましょう。"
   ]
  },
  {
   "cell_type": "code",
   "execution_count": 14,
   "metadata": {},
   "outputs": [],
   "source": [
    "import jijmodeling as jm\n",
    "\n",
    "# define variables\n",
    "V = jm.Placeholder('V')\n",
    "E = jm.Placeholder('E', ndim=2)\n",
    "N = jm.Placeholder('N')\n",
    "x = jm.BinaryVar('x', shape=(V, N))\n",
    "n = jm.Element('n', (0, N))\n",
    "v = jm.Element('v', (0, V))\n",
    "e = jm.Element('e', E)"
   ]
  },
  {
   "cell_type": "markdown",
   "metadata": {},
   "source": [
    "`V=jm.Placeholder('V')`でグラフの頂点数、`E=jm.Placeholder('E', ndim=2)`でグラフの辺集合を定義します。`N=jm.Placeholder('N')`でグラフを何個のクリークに分割するかを決定し、その`V, N`を用いてバイナリ変数$x_{v, n}$を`x=jm.BinaryVar('x', shape=(V, N))`のように定義します。`n, v`はバイナリ変数の添字に用いる変数です。最後の`e`は辺を表す変数です。`e[0], e[1]`が辺`e`の両端に位置する頂点となります。すなわち$(u, v) = (e[0], e[1])$です。\n",
    "\n",
    "### 制約と目的関数の実装\n",
    "\n",
    "式(1), (2)を制約として実装しましょう。"
   ]
  },
  {
   "cell_type": "code",
   "execution_count": 16,
   "metadata": {},
   "outputs": [],
   "source": [
    "# set problem\n",
    "problem = jm.Problem('Clique Cover')\n",
    "# set one-hot constraint: each vertex has only one color\n",
    "problem += jm.Constraint('color', x[v, :].sum()==1, forall=v)\n",
    "# set objective function: minimize the difference in the number of edges from complete graph\n",
    "clique = x[:, n].sum() * (x[:, n].sum()-1) / 2\n",
    "num_e = jm.sum(e, x[e[0], n]*x[e[1], n])\n",
    "problem += jm.sum(n, clique-num_e)"
   ]
  },
  {
   "cell_type": "markdown",
   "metadata": {},
   "source": [
    "問題を作成し、そこに制約を追加しましょう。`x[v, :]`とすることで`Sum(n, x[v, n])`を簡潔に実装することができます。\n",
    "`clique`で、頂点がクリークを作っていた場合の辺の数を計算しています。次の`num_e`が、実際にその頂点たちが持っている辺の数を計算したものです。最後にその差を取ったものの総和を目的関数として追加しています。  \n",
    "実際に実装された数式をJupyter Notebookで表示してみましょう。"
   ]
  },
  {
   "cell_type": "code",
   "execution_count": 17,
   "metadata": {},
   "outputs": [
    {
     "data": {
      "text/latex": [
       "$$\\begin{array}{cccc}\\text{Problem:} & \\text{Clique Cover} & & \\\\& & \\min \\quad \\displaystyle \\sum_{n = 0}^{N - 1} \\left(\\sum_{\\ast_{0} = 0}^{V - 1} x_{\\ast_{0}, n} \\cdot \\left(\\sum_{\\ast_{0} = 0}^{V - 1} x_{\\ast_{0}, n} - 1\\right) \\cdot 2^{(-1)} - \\sum_{e \\in E} x_{e_{0}, n} \\cdot x_{e_{1}, n}\\right) & \\\\\\text{{s.t.}} & & & \\\\ & \\text{color} & \\displaystyle \\sum_{\\ast_{1} = 0}^{N - 1} x_{v, \\ast_{1}} = 1 & \\forall v \\in \\left\\{0,\\ldots,V - 1\\right\\} \\\\\\text{{where}} & & & \\\\& x & 2\\text{-dim binary variable}\\\\\\end{array}$$"
      ],
      "text/plain": [
       "<jijmodeling.Problem at 0x2ee74c0>"
      ]
     },
     "execution_count": 17,
     "metadata": {},
     "output_type": "execute_result"
    }
   ],
   "source": [
    "problem"
   ]
  },
  {
   "cell_type": "markdown",
   "metadata": {},
   "source": [
    "### インスタンスの作成\n",
    "\n",
    "実際にクリーク被覆を行うグラフを設定しましょう。"
   ]
  },
  {
   "cell_type": "code",
   "execution_count": 18,
   "metadata": {},
   "outputs": [],
   "source": [
    "import networkx as nx\n",
    "\n",
    "# set the number of colors\n",
    "inst_N = 3\n",
    "# set empty graph\n",
    "inst_G = nx.Graph()\n",
    "# add edges\n",
    "inst_E = [[0, 1], [1, 2], [0, 2], \n",
    "            [3, 4], [4, 5], [5, 6], [3, 6], [3, 5], [4, 6], \n",
    "            [7, 8], [8, 9], [7, 9], \n",
    "            [1, 3], [2, 6], [5, 7], [5, 9]]\n",
    "inst_G.add_edges_from(inst_E)\n",
    "# get the number of nodes\n",
    "inst_V = list(inst_G.nodes)\n",
    "num_V = len(inst_V)\n",
    "instance_data = {'N': inst_N, 'V': num_V, 'E': inst_E, 'G': inst_G}"
   ]
  },
  {
   "cell_type": "markdown",
   "metadata": {},
   "source": [
    "このインスタンスで設定されるグラフは、以下のようなものです。\n",
    "\n",
    "![](../../../assets/clique_cover_03.png)\n",
    "\n",
    "{0, 1, 2}, {3, 4, 5, 6}, {7, 8, 9}の3つのクリークから成るこのグラフが、実際にクリークに分けられるかを確認してみましょう。\n",
    "\n",
    "### JijModeling transpilerによるPyQUBOへの変換\n",
    "\n",
    "ここまで行われてきた実装は、全てJijModelingによるものでした。\n",
    "これをPyQUBOに変換することで、OpenJijはもちろん、他のソルバーを用いた組合せ最適化計算を行うことが可能になります。"
   ]
  },
  {
   "cell_type": "code",
   "execution_count": 19,
   "metadata": {},
   "outputs": [],
   "source": [
    "import jijmodeling_transpiler as jmt\n",
    "\n",
    "# compile\n",
    "compiled_model = jmt.core.compile_model(problem, instance_data, {})\n",
    "# get qubo model\n",
    "pubo_builder = jmt.core.pubo.transpile_to_pubo(compiled_model=compiled_model, relax_method=jmt.core.pubo.RelaxationMethod.AugmentedLagrangian)\n",
    "qubo, const = pubo_builder.get_qubo_dict(multipliers={\"color\": 1.0})"
   ]
  },
  {
   "cell_type": "markdown",
   "metadata": {},
   "source": [
    "JijModelingで作成された`problem`、そして先ほど値を設定した`instance_data`を引数として、`to_pyqubo`によりPyQUBOモデルを作成します。次にそれをコンパイルすることで、OpenJijなどで計算が可能なQUBOモデルにします。\n",
    "\n",
    "### OpenJijによる最適化計算の実行\n",
    "\n",
    "今回はOpenJijのシミュレーテッド・アニーリングを用いて、最適化問題を解くことにします。\n",
    "それには以下のようにします。"
   ]
  },
  {
   "cell_type": "code",
   "execution_count": 10,
   "metadata": {},
   "outputs": [
    {
     "ename": "NameError",
     "evalue": "name 'qubo' is not defined",
     "output_type": "error",
     "traceback": [
      "\u001b[0;31m---------------------------------------------------------------------------\u001b[0m",
      "\u001b[0;31mNameError\u001b[0m                                 Traceback (most recent call last)",
      "\u001b[1;32m/home/nakasho/nakasho/documents/OpenJij/docs/tutorial/ja/optimization/clique_cover.ipynb Cell 15\u001b[0m line \u001b[0;36m6\n\u001b[1;32m      <a href='vscode-notebook-cell://ssh-remote%2B52.156.136.120/home/nakasho/nakasho/documents/OpenJij/docs/tutorial/ja/optimization/clique_cover.ipynb#X42sdnNjb2RlLXJlbW90ZQ%3D%3D?line=3'>4</a>\u001b[0m sampler \u001b[39m=\u001b[39m oj\u001b[39m.\u001b[39mSASampler()\n\u001b[1;32m      <a href='vscode-notebook-cell://ssh-remote%2B52.156.136.120/home/nakasho/nakasho/documents/OpenJij/docs/tutorial/ja/optimization/clique_cover.ipynb#X42sdnNjb2RlLXJlbW90ZQ%3D%3D?line=4'>5</a>\u001b[0m \u001b[39m# solve problem\u001b[39;00m\n\u001b[0;32m----> <a href='vscode-notebook-cell://ssh-remote%2B52.156.136.120/home/nakasho/nakasho/documents/OpenJij/docs/tutorial/ja/optimization/clique_cover.ipynb#X42sdnNjb2RlLXJlbW90ZQ%3D%3D?line=5'>6</a>\u001b[0m response \u001b[39m=\u001b[39m sampler\u001b[39m.\u001b[39msample_qubo(qubo, num_reads\u001b[39m=\u001b[39m\u001b[39m100\u001b[39m)\n",
      "\u001b[0;31mNameError\u001b[0m: name 'qubo' is not defined"
     ]
    }
   ],
   "source": [
    "import openjij as oj\n",
    "\n",
    "# set sampler\n",
    "sampler = oj.SASampler()\n",
    "# solve problem\n",
    "response = sampler.sample_qubo(qubo, num_reads=100)\n"
   ]
  },
  {
   "cell_type": "markdown",
   "metadata": {},
   "source": [
    "`SASampler`を設定し、そのサンプラーに先程作成したQUBOモデルの`qubo`を入力することで、計算結果が得られます。また`num_reads`に正の整数を渡すことで、アニーリングのサンプリング数を指定することができます。\n",
    "\n",
    "### デコードと解の表示\n",
    "\n",
    "返された計算結果をデコードし、解析を行いやすくします。"
   ]
  },
  {
   "cell_type": "code",
   "execution_count": 11,
   "metadata": {},
   "outputs": [
    {
     "ename": "NameError",
     "evalue": "name 'pyq_chache' is not defined",
     "output_type": "error",
     "traceback": [
      "\u001b[0;31m---------------------------------------------------------------------------\u001b[0m",
      "\u001b[0;31mNameError\u001b[0m                                 Traceback (most recent call last)",
      "\u001b[1;32m/home/nakasho/nakasho/documents/OpenJij/docs/tutorial/ja/optimization/clique_cover.ipynb Cell 17\u001b[0m line \u001b[0;36m2\n\u001b[1;32m      <a href='vscode-notebook-cell://ssh-remote%2B52.156.136.120/home/nakasho/nakasho/documents/OpenJij/docs/tutorial/ja/optimization/clique_cover.ipynb#X43sdnNjb2RlLXJlbW90ZQ%3D%3D?line=0'>1</a>\u001b[0m \u001b[39m# decode solution\u001b[39;00m\n\u001b[0;32m----> <a href='vscode-notebook-cell://ssh-remote%2B52.156.136.120/home/nakasho/nakasho/documents/OpenJij/docs/tutorial/ja/optimization/clique_cover.ipynb#X43sdnNjb2RlLXJlbW90ZQ%3D%3D?line=1'>2</a>\u001b[0m result \u001b[39m=\u001b[39m pyq_chache\u001b[39m.\u001b[39mdecode(response)\n",
      "\u001b[0;31mNameError\u001b[0m: name 'pyq_chache' is not defined"
     ]
    }
   ],
   "source": [
    "# decode solution\n",
    "result = pyq_chache.decode(response)"
   ]
  },
  {
   "cell_type": "markdown",
   "metadata": {},
   "source": [
    "このようにして得られた結果から、グラフ彩色された結果を見てみましょう。"
   ]
  },
  {
   "cell_type": "code",
   "execution_count": 12,
   "metadata": {},
   "outputs": [
    {
     "ename": "NameError",
     "evalue": "name 'result' is not defined",
     "output_type": "error",
     "traceback": [
      "\u001b[0;31m---------------------------------------------------------------------------\u001b[0m",
      "\u001b[0;31mNameError\u001b[0m                                 Traceback (most recent call last)",
      "\u001b[1;32m/home/nakasho/nakasho/documents/OpenJij/docs/tutorial/ja/optimization/clique_cover.ipynb Cell 19\u001b[0m line \u001b[0;36m2\n\u001b[1;32m      <a href='vscode-notebook-cell://ssh-remote%2B52.156.136.120/home/nakasho/nakasho/documents/OpenJij/docs/tutorial/ja/optimization/clique_cover.ipynb#X46sdnNjb2RlLXJlbW90ZQ%3D%3D?line=0'>1</a>\u001b[0m \u001b[39m# extract feasible solution\u001b[39;00m\n\u001b[0;32m----> <a href='vscode-notebook-cell://ssh-remote%2B52.156.136.120/home/nakasho/nakasho/documents/OpenJij/docs/tutorial/ja/optimization/clique_cover.ipynb#X46sdnNjb2RlLXJlbW90ZQ%3D%3D?line=1'>2</a>\u001b[0m feasible \u001b[39m=\u001b[39m result\u001b[39m.\u001b[39mfeasible()\n\u001b[1;32m      <a href='vscode-notebook-cell://ssh-remote%2B52.156.136.120/home/nakasho/nakasho/documents/OpenJij/docs/tutorial/ja/optimization/clique_cover.ipynb#X46sdnNjb2RlLXJlbW90ZQ%3D%3D?line=2'>3</a>\u001b[0m \u001b[39mif\u001b[39;00m feasible\u001b[39m.\u001b[39mevaluation\u001b[39m.\u001b[39mobjective \u001b[39m==\u001b[39m []:\n\u001b[1;32m      <a href='vscode-notebook-cell://ssh-remote%2B52.156.136.120/home/nakasho/nakasho/documents/OpenJij/docs/tutorial/ja/optimization/clique_cover.ipynb#X46sdnNjb2RlLXJlbW90ZQ%3D%3D?line=3'>4</a>\u001b[0m     \u001b[39mprint\u001b[39m(\u001b[39m'\u001b[39m\u001b[39mNo feasible solution found ...\u001b[39m\u001b[39m'\u001b[39m)\n",
      "\u001b[0;31mNameError\u001b[0m: name 'result' is not defined"
     ]
    }
   ],
   "source": [
    "# extract feasible solution\n",
    "feasible = result.feasible()\n",
    "if feasible.evaluation.objective == []:\n",
    "    print('No feasible solution found ...')\n",
    "else:\n",
    "    print(\"Objective: \"+str(feasible.evaluation.objective[0]))\n",
    "    # get indices of x = 1\n",
    "    indices, _, _ = feasible.record.solution['x'][0]\n",
    "    # get vertex number and color\n",
    "    vertices, colors = indices\n",
    "    # sort lists by vertex number\n",
    "    zip_lists = zip(vertices, colors)\n",
    "    zip_sort = sorted(zip_lists)\n",
    "    sorted_vertices, sorted_colors = zip(*zip_sort)\n",
    "    # initialize vertex color list\n",
    "    node_colors = [-1] * len(vertices)\n",
    "    # set color list for visualization\n",
    "    colorlist = ['gold', 'violet', 'limegreen']    \n",
    "    # set vertex color list\n",
    "    for i, j in zip(sorted_vertices, sorted_colors):\n",
    "        node_colors[i] = colorlist[j]\n",
    "    # make figure\n",
    "    fig = plt.figure()\n",
    "    nx.draw_networkx(instance_data['G'], node_color=node_colors, with_labels=True)\n",
    "    fig.savefig('clique_cover.png')"
   ]
  },
  {
   "cell_type": "markdown",
   "metadata": {},
   "source": [
    "`.feasible()`を用いることで、実行可能解のみを抽出することができます。ここから、クリークごとに頂点を色で塗り分ける作業を行なっています。作成されたグラフは以下のようになります。\n",
    "\n",
    "![](../../../assets/clique_cover_04.png)"
   ]
  },
  {
   "cell_type": "markdown",
   "metadata": {},
   "source": []
  }
 ],
 "metadata": {
  "kernelspec": {
   "display_name": "Python 3 (ipykernel)",
   "language": "python",
   "name": "python3"
  },
  "language_info": {
   "codemirror_mode": {
    "name": "ipython",
    "version": 3
   },
   "file_extension": ".py",
   "mimetype": "text/x-python",
   "name": "python",
   "nbconvert_exporter": "python",
   "pygments_lexer": "ipython3",
   "version": "3.9.5"
  },
  "vscode": {
   "interpreter": {
    "hash": "5de874e2fc479b2d8c72d9b9d7199763e296392b542125e77f5cad711bb306ce"
   }
  }
 },
 "nbformat": 4,
 "nbformat_minor": 4
}
