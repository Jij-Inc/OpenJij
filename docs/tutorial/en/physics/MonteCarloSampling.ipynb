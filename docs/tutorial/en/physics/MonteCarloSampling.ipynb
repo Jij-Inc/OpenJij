{
 "cells": [
  {
   "cell_type": "markdown",
   "metadata": {},
   "source": [
    "# Monte Carlo Sampling and Phase Transition Point Estimation"
   ]
  },
  {
   "cell_type": "markdown",
   "metadata": {},
   "source": [
    "OpenJij performs simulated annealing (SA).\n",
    "If the temperature is constant, spin arrays can be sampled from the canonical distribution of that temperature.\n",
    "\n",
    "$$\n",
    "p(\\{\\sigma\\}) = \\frac{\\exp(-\\beta E(\\{\\sigma\\}))}{Z}, \\ Z = \\sum_{\\{\\sigma\\}}\\exp(-\\beta E(\\{\\sigma\\}))\n",
    "$$\n",
    "\n",
    "In the following, we use a fully-connected ferromagnetic Ising model:\n",
    "\n",
    "$$\n",
    "E(\\{\\sigma\\}) = \\frac{J}{N} \\sum_{i<j} \\sigma_i \\sigma_j \\ (J<0)\n",
    "$$\n",
    "\n",
    "By dividing the energy by the system size $N$, we normalize the Hamiltonian to be about the same size as $N$. Also, we set $J = -1$."
   ]
  },
  {
   "cell_type": "code",
   "execution_count": 1,
   "metadata": {},
   "outputs": [],
   "source": [
    "# import library\n",
    "import openjij as oj\n",
    "import numpy as np\n",
    "import matplotlib.pyplot as plt\n",
    "\n",
    "# set sampler\n",
    "sampler = oj.SASampler(num_reads=100)\n",
    "\n",
    "# define the fully-connected problem\n",
    "def fully_connected(n):\n",
    "    h, J = {}, {}\n",
    "    for i in range(n-1):\n",
    "        for j in range(i+1, n):\n",
    "            J[i, j] = -1/n\n",
    "    return h, J\n",
    "\n",
    "# set h and J\n",
    "h, J = fully_connected(n=500)"
   ]
  },
  {
   "cell_type": "markdown",
   "metadata": {},
   "source": [
    "Let us calculate the magnetization at each temperature.\n",
    "\n",
    "$$\n",
    "m = \\frac{1}{N} \\sum_i \\sigma_i\n",
    "$$\n",
    "\n",
    "The closer this value is to 1, the more aligned the spins are (ferromagnetism). Conversely, the closer this value is to 0, the more disparate the spins are (paramagnetic).  \n",
    "When the temperature is kept constant and the OpenJij calculation is performed, it can be seen that the value of magnetization approaches 0 at a temperature of around 1.0.\n",
    "This is because the spins tend to become disjointed as the temperature rises."
   ]
  },
  {
   "cell_type": "code",
   "execution_count": 7,
   "metadata": {},
   "outputs": [],
   "source": [
    "# create a list of temperatures\n",
    "temp_list = np.linspace(0.01, 2, 30)\n",
    "\n",
    "# calculate the magnetization and its dispersion\n",
    "mag, mag_std = [], []\n",
    "for temp in temp_list:\n",
    "    beta = 1.0/temp\n",
    "    schedule = [[beta, 100]]\n",
    "    response = sampler.sample_ising(h, J, schedule=schedule)\n",
    "    mag_list = [np.abs(np.mean(state)) for state in response.states]\n",
    "    mag_std.append(np.std(mag_list))\n",
    "    mag.append(np.mean(mag_list))"
   ]
  },
  {
   "cell_type": "code",
   "execution_count": null,
   "metadata": {},
   "outputs": [],
   "source": [
    "# plot\n",
    "plt.errorbar(temp_list, mag, yerr=mag_std)\n",
    "plt.plot(temp_list, mag)\n",
    "plt.xlabel('temperature', fontsize=15)\n",
    "plt.ylabel(r'$|m|$', fontsize=15)\n",
    "plt.show()"
   ]
  },
  {
   "cell_type": "markdown",
   "metadata": {},
   "source": [
    "**Phase transition** is the phenomenon that changes the value significantly at a specific temperature.\n",
    "In the present model, it is theoretically proven that a phase transition occurs at a temperature of 1.0 (when the system size is brought close to infinity).  \n",
    "However, in many cases, it is not possible to theoretically calculate at what temperature the phase transition occurs in the actual model.\n",
    "For this reason, many methods use Monte Carlo simulations to numerically study the properties related to phase transitions."
   ]
  },
  {
   "cell_type": "markdown",
   "metadata": {},
   "source": [
    "## Binder Cumulant\n",
    "\n",
    "Let us assume that we do not know the temperature at which the phase transition occurs, and let us try to find that temperature as accurately as possible from numerical calculations.\n",
    "The above figure shows that the magnetization is approaching zero as the temperature increases.\n",
    "However, it needs to be made clear which temperature is the phase transition point.\n",
    "This is because the phase transition phenomenon theoretically occurs in a system of infinite size, but the simulation can only handle a finite size, resulting in an error with the theory. This is called the **finite-size effect**.  \n",
    "It may seem impossible to numerically analyze a system of infinite size.\n",
    "However, in the field of numerical statistical mechanics, methods have been developed to obtain information on infinite system sizes from finite system sizes.  \n",
    "One of these methods uses the **Binder cumulant**.\n",
    "\n",
    "$$U_4 \\equiv \\frac{1}{2}\\left( 3- \\frac{\\langle m^4\\rangle}{\\langle m^2\\rangle^2} \\right)$$"
   ]
  },
  {
   "cell_type": "code",
   "execution_count": null,
   "metadata": {},
   "outputs": [],
   "source": [
    "# calculate U_4\n",
    "def u_4(states):\n",
    "    m = np.array([np.mean(state) for state in states])\n",
    "    return 0.5 * (3-np.mean(m**4)/(np.mean(m**2)**2))"
   ]
  },
  {
   "cell_type": "markdown",
   "metadata": {},
   "source": [
    "We can show that this quantity approaches 1 for ferromagnetism, where the magnetization approaches 1, and 0 for paramagnetism, where the magnetization approaches 0.\n",
    "Furthermore, the value is independent of system size at the phase transition point.\n",
    "Therefore, we can perform numerical experiments as described above for several system sizes and say that the phase transition point is the point where the graphs of $U_4$ intersect at a single point.\n",
    "The details are in statistical mechanics textbooks.\n",
    "Let us perform the actual calculation below."
   ]
  },
  {
   "cell_type": "code",
   "execution_count": null,
   "metadata": {},
   "outputs": [],
   "source": [
    "# Define the size of the system as a list\n",
    "n_list = [40, 80, 120, 160]\n",
    "# Define temperature by list\n",
    "temp_list = np.linspace(0.5, 1.5, 30)\n",
    "\n",
    "# Set sampler\n",
    "sampler = oj.SASampler(num_reads=300)\n",
    "\n",
    "u4_list_n = []\n",
    "for n in n_list:\n",
    "    # Create instance\n",
    "    h, J = fully_connected(n)\n",
    "    u4_temp = []\n",
    "    for temp in temp_list:\n",
    "        beta = 1.0/temp\n",
    "        schedule = [[beta, 100 if temp < 0.9 else 300]]\n",
    "        response = sampler.sample_ising(h, J, \n",
    "                                        schedule=schedule, reinitialize_state=False,\n",
    "                                        num_reads=100 if temp < 0.9 else 1000\n",
    "                                       )\n",
    "        u4_temp.append(u_4(response.states))\n",
    "    u4_list_n.append(u4_temp)"
   ]
  },
  {
   "cell_type": "code",
   "execution_count": null,
   "metadata": {},
   "outputs": [],
   "source": [
    "# plot\n",
    "for n,u4_beta in zip(n_list,u4_list_n):\n",
    "    plt.plot(temp_list, np.array(u4_beta), label='n={}'.format(n))\n",
    "\n",
    "plt.legend()\n",
    "plt.ylabel('$U_4$', fontsize=15)\n",
    "plt.xlabel('temperature', fontsize=15)\n",
    "plt.show()"
   ]
  },
  {
   "cell_type": "markdown",
   "metadata": {},
   "source": [
    "The statistics are not complete, so there is some scatter in the data.\n",
    "However, it can be seen that the data for the four system sizes intersect at a single point around the temperature of 1, which is approximately the phase transition point.  \n",
    "Estimation of the phase transition point by Binder cumulant is a common method used at the forefront of numerical analysis.\n",
    "\n",
    "> In academic research, it is necessary to obtain sufficient statistics, and of course, error evaluation (calculation of error bars) must be done more precisely.\n",
    "Since the present calculations are only an overview, the exact error evaluations are omitted."
   ]
  },
  {
   "cell_type": "markdown",
   "metadata": {},
   "source": [
    "## Summary\n",
    "\n",
    "We have shown how to perform Monte Carlo sampling using annealing.\n",
    "We applied it to an example calculation of phase transitions in statistical physics.\n",
    "OpenJij can be used for various applications depending on your ideas."
   ]
  }
 ],
 "metadata": {
  "kernelspec": {
   "display_name": "Python 3 (ipykernel)",
   "language": "python",
   "name": "python3"
  },
  "language_info": {
   "codemirror_mode": {
    "name": "ipython",
    "version": 3
   },
   "file_extension": ".py",
   "mimetype": "text/x-python",
   "name": "python",
   "nbconvert_exporter": "python",
   "pygments_lexer": "ipython3",
   "version": "3.9.15"
  },
  "vscode": {
   "interpreter": {
    "hash": "2e8d7574d7ec71e14cb1575cf43673432d6fae464c836a7b3733d4f6c20243fb"
   }
  }
 },
 "nbformat": 4,
 "nbformat_minor": 4
}
