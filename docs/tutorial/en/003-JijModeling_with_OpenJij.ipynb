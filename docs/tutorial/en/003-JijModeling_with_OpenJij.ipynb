{
 "cells": [
  {
   "cell_type": "markdown",
   "metadata": {},
   "source": [
    "# JijModeling with OpenJij"
   ]
  },
  {
   "cell_type": "markdown",
   "metadata": {
    "colab_type": "text",
    "id": "view-in-github"
   },
   "source": [
    "[![Open in Colab](https://colab.research.google.com/assets/colab-badge.svg)](https://colab.research.google.com/github/OpenJij/OpenJijTutorial/blob/master/source/en/003-PyQUBO_2_OpenJij.ipynb)"
   ]
  },
  {
   "cell_type": "markdown",
   "metadata": {
    "colab_type": "text",
    "id": "view-in-github"
   },
   "source": [
    "In this note, we first explain how to write a mathematical model with JijModeling. After that, we explain how to convert the model to QUBO using JijModeling Transpiler and run simulated annealing with OpenJij.\n",
    "We solve the clique cover problem as an example.\n",
    "\n",
    "Please check the documents for a more detailed explanation of JijModeling and JijModeling Transpiler."
   ]
  },
  {
   "cell_type": "markdown",
   "metadata": {},
   "source": [
    "We install `jijmodeling` and `jijmodeling-transpiler` by using the pip python package.\n",
    "Note that `jijmodeling-transpiler` is available with Python 3.9"
   ]
  },
  {
   "cell_type": "code",
   "execution_count": null,
   "metadata": {
    "tags": []
   },
   "outputs": [],
   "source": [
    "!pip install jijmodeling\n",
    "!pip install jijmodeling-transpiler"
   ]
  },
  {
   "cell_type": "code",
   "execution_count": null,
   "metadata": {},
   "outputs": [],
   "source": [
    "!python --version"
   ]
  },
  {
   "cell_type": "code",
   "execution_count": null,
   "metadata": {},
   "outputs": [],
   "source": [
    "import jijmodeling as jm\n",
    "import numpy as np\n",
    "import matplotlib.pyplot as plt"
   ]
  },
  {
   "cell_type": "markdown",
   "metadata": {},
   "source": [
    "## Formulation of QUBO with JijModeling\n",
    "\n",
    "JijModeling is an intuitive modeling library for formulating mathematical models, and we can easily convert mathematical models to QUBO. In the last notes, we have shown the case without JijModeling, so we had to formulate QUBO, expand the expressions ourselves, and put them into the Python script. However, we can eliminate those hassles with JijModeling.\n",
    "\n",
    "JijModeling is a handy library that can help us reduce the computational and implementation errors in our QUBO and Ising model transformations.\n",
    "\n",
    "Let us solve the clique cover problem as an example.\n",
    "\n",
    "For more details on this problem, see also [here (T-Wave: creek coverage problem (only Japanese))](https://qard.is.tohoku.ac.jp/T-Wave/?p=434)."
   ]
  },
  {
   "cell_type": "markdown",
   "metadata": {},
   "source": [
    "We introduce the formulation of the clique cover problem as a mathematical model.\n",
    "\n",
    "This problem is the computational problem of determining whether, given a graph $G=(V, E)$ and $n$ different colors, the graph can be partitioned into $n$ cliques.\n",
    "\n",
    "The mathematical model of this problem is:\n",
    "\n",
    "$$H_B =  \\sum^n_{i=1}\\left[\n",
    "\\frac{1}{2}\\left(-1+\\sum_{v \\in V} x_{v,i}\\right)\\sum_{v \\in V} x_{v, i} \n",
    "- \\sum_{(u, v)\\in E} x_{u,i} x_{v, i}\\right]$$\n",
    "$$\\mathrm{s.t.\\  }\\quad  \\sum^n_{i=1} x_{v, i} = 1\\quad \\mathrm{forall}\\ v$$\n",
    "\n",
    "\n",
    "Here, $x_{v,i}$ is a binary variable and if the vertex $v$ is colored by the $i$th color, then $x_{v,i} = 1$.\n",
    "This is the objective function that shows how close the split subgraph is to a clique (complete graph).\n",
    "\n",
    "The QUBO of this model is as follows:\n",
    "\n",
    "$$\n",
    "\\begin{aligned}\n",
    "H &= A H_A + B H_B \\\\\n",
    " &= A\\sum_v \\left(1-\\sum^n_{i=1} x_{v, i}\\right)^2 \n",
    "+ B \\sum^n_{i=1}\\left[\n",
    "\\frac{1}{2}\\left(-1+\\sum_{v \\in V} x_{v,i}\\right)\\sum_{v \\in V} x_{v, i} \n",
    "- \\sum_{(u, v)\\in E} x_{u,i} x_{v, i}\\right]\n",
    "\\end{aligned}$$\n",
    "\n",
    "The constraint is that only one color is painted on each vertex.\n",
    "We treat the first term as a penalty term, and the second as a cost (objective function). We want both objective and constraint terms to satisfy being zero.\n",
    "Normally, we write down the QUBO model to use the Ising optimization. However, JijModeling reduces this process."
   ]
  },
  {
   "cell_type": "markdown",
   "metadata": {},
   "source": [
    "We set the graph $G=(V, E)$ and the number of cliques $n$ as follows:"
   ]
  },
  {
   "cell_type": "code",
   "execution_count": 2,
   "metadata": {},
   "outputs": [],
   "source": [
    "# set the number of vertexes\n",
    "N_VER = 8\n",
    "# set the number of colors\n",
    "N_COLOR = 3\n",
    "# set the graph. define them which vertices are connected to each other\n",
    "edges = [[0,1], [0,2], [1,2], [5,6], [2,3], [2,5], [3,4], [5,7], [7, 6]]"
   ]
  },
  {
   "cell_type": "markdown",
   "metadata": {},
   "source": [
    "### Formulation with JijModeling"
   ]
  },
  {
   "cell_type": "code",
   "execution_count": null,
   "metadata": {},
   "outputs": [],
   "source": [
    "import jijmodeling as jm"
   ]
  },
  {
   "cell_type": "markdown",
   "metadata": {},
   "source": [
    "First, we prepare the variables for the mathematical model. We set an array of variables using `Array`.\n",
    "Since we need the `(N_VER) x (N_COLOR)` numbers of variables, we set the `shape` argument as follows."
   ]
  },
  {
   "cell_type": "code",
   "execution_count": null,
   "metadata": {},
   "outputs": [],
   "source": [
    "problem = jm.Problem('clique')\n",
    "\n",
    "N = jm.Placeholder('N')\n",
    "V = jm.Placeholder('V')\n",
    "E = jm.Placeholder('E',dim = 2)\n",
    "x = jm.Binary('x', shape=(V,N))\n",
    "i = jm.Element('i',(0,N))\n",
    "v = jm.Element('v',(0,V))\n",
    "e = jm.Element('e',E)\n",
    "\n",
    "objective = jm.Sum(i, 1/2 * ( -1 + jm.Sum(v,x[v,i]) ) * jm.Sum(v,x[v,i]) - jm.Sum(e,x[e[0],i] * x[e[1],i]))\n",
    "problem += objective\n",
    "constraint = jm.Constraint(\"onehot\",jm.Sum(i,x[v,i]) == 1,forall= v)\n",
    "problem += constraint\n",
    "problem"
   ]
  },
  {
   "cell_type": "markdown",
   "metadata": {},
   "source": [
    "As shown, the mathematical model part can be written simply.\n",
    "\n",
    "Next, we need to prepare the instance data for the placeholder value."
   ]
  },
  {
   "cell_type": "code",
   "execution_count": null,
   "metadata": {},
   "outputs": [],
   "source": [
    "instance_data = {'N':N_COLOR,'V':N_VER,'E':edges }"
   ]
  },
  {
   "cell_type": "markdown",
   "metadata": {},
   "source": [
    "We now have prepared the mathematical model and the instance data."
   ]
  },
  {
   "cell_type": "markdown",
   "metadata": {},
   "source": [
    "### Converting mathematical model to QUBO\n",
    "\n",
    "We import the transpiler function to create QUBO from the mathematical model."
   ]
  },
  {
   "cell_type": "code",
   "execution_count": null,
   "metadata": {},
   "outputs": [],
   "source": [
    "from jijmodeling.transpiler.pyqubo.to_pyqubo import to_pyqubo"
   ]
  },
  {
   "cell_type": "code",
   "execution_count": null,
   "metadata": {},
   "outputs": [],
   "source": [
    "from jijmodeling.transpiler.pyqubo import to_pyqubo"
   ]
  },
  {
   "cell_type": "code",
   "execution_count": null,
   "metadata": {},
   "outputs": [],
   "source": [
    "import jijmodeling.transpiler"
   ]
  },
  {
   "cell_type": "code",
   "execution_count": null,
   "metadata": {},
   "outputs": [],
   "source": [
    "pyq_obj, pyq_cache = to_pyqubo(problem, instance_data,fixed_variables={})"
   ]
  },
  {
   "cell_type": "markdown",
   "metadata": {},
   "source": [
    "`to_pyqubo()` creates pyqubo object (`pyq_obj`) and the information on the relationship between pyqubo object and the mathematical model is in `pyq_cache`.\n",
    "Please see the documentation of JijModelingTranspiler for more detailed information about `to_pyqubo()`."
   ]
  },
  {
   "cell_type": "markdown",
   "metadata": {},
   "source": [
    "We can easily convert to QUBO (Python dictionary type) with `pyq_obj.compile().to_qubo()`.\n",
    "\n",
    "In OpenJij and D-Wave Ocean, QUBO is assumed to be represented by a Python dictionary type.\n",
    "\n",
    "We can run it on each solver by `.compile`."
   ]
  },
  {
   "cell_type": "code",
   "execution_count": null,
   "metadata": {},
   "outputs": [],
   "source": [
    "# compile this model\n",
    "qubo, offset = pyq_obj.compile().to_qubo(feed_dict = {'onehot':1.0})"
   ]
  },
  {
   "cell_type": "markdown",
   "metadata": {},
   "source": [
    "`qubo` is set to QUBO and `offset` is set to the constant that appears when it is converted to QUBO."
   ]
  },
  {
   "cell_type": "markdown",
   "metadata": {},
   "source": [
    "## Run with OpenJij\n",
    "\n",
    "Let us use OpenJij to solve the clique cover problem.\n",
    "\n",
    "In this tutorial, we use the simulated annealing (SA) solver, but we can also use simulated quantum annealing (SQA)."
   ]
  },
  {
   "cell_type": "code",
   "execution_count": null,
   "metadata": {},
   "outputs": [],
   "source": [
    "# use SA on neal\n",
    "import openjij as oj\n",
    "sampler = oj.SASampler()\n",
    "response = sampler.sample_qubo(qubo)"
   ]
  },
  {
   "cell_type": "markdown",
   "metadata": {},
   "source": [
    "`.first.sample` extracts the lowest energy of all derived solutions."
   ]
  },
  {
   "cell_type": "code",
   "execution_count": null,
   "metadata": {},
   "outputs": [],
   "source": [
    "print(response.first.sample)"
   ]
  },
  {
   "cell_type": "markdown",
   "metadata": {},
   "source": [
    "To make the result more readable, use the `.decode` method."
   ]
  },
  {
   "cell_type": "code",
   "execution_count": null,
   "metadata": {},
   "outputs": [],
   "source": [
    "result = pyq_cache.decode(response)\n",
    "result.record.solution"
   ]
  },
  {
   "cell_type": "markdown",
   "metadata": {},
   "source": [
    "The solution is in the COO format, which means that the solution array contains only indices with values of 1.\n",
    "This format is useful because we usually only know which value is 1 and which is not.\n",
    "Let us see the result."
   ]
  },
  {
   "cell_type": "code",
   "execution_count": 1,
   "metadata": {},
   "outputs": [],
   "source": [
    "import networkx as nx\n",
    "import matplotlib.pyplot as plt"
   ]
  },
  {
   "cell_type": "code",
   "execution_count": null,
   "metadata": {},
   "outputs": [],
   "source": [
    "# initialize vertex color list\n",
    "node_colors = [-1] * N_VER\n",
    "# set color list for visualization\n",
    "colorlist = ['gold', 'violet', 'limegreen', 'darkorange']\n",
    "# set vertex color list\n",
    "for node_num,class_num in zip(*result.record.solution['x'][0][0]):\n",
    "    node_colors[node_num] = colorlist[class_num]\n",
    "# make figure\n",
    "fig = plt.figure()\n",
    "G = nx.Graph()\n",
    "G.add_nodes_from(range(N_VER))\n",
    "G.add_edges_from(instance_data[\"E\"])\n",
    "nx.draw_networkx(G, node_color=node_colors, with_labels=True)"
   ]
  },
  {
   "cell_type": "markdown",
   "metadata": {},
   "source": [
    "The graph is divided by each clique.\n",
    "\n",
    "We can check the energy and objective value by using `result.evaluation`"
   ]
  },
  {
   "cell_type": "code",
   "execution_count": null,
   "metadata": {},
   "outputs": [],
   "source": [
    "result.evaluation"
   ]
  },
  {
   "cell_type": "markdown",
   "metadata": {},
   "source": [
    "## Summary\n",
    "\n",
    "We learned how to formulate using JijModeling and how it works with OpenJij.\n",
    "\n",
    "The steps are as follows:\n",
    "\n",
    "1. Use JijModeling to export the mathematical model.\n",
    "2. Convert the mathematical model to QUBO using JijModeling Transpiler.\n",
    "3. Compile QUBO and convert it to a dictionary type.\n",
    "4. Use OpenJij solvers (such as `SASampler()`) to solve the optimization problem.\n",
    "5. Decode the solution using `decode`.\n",
    "\n",
    "JijModeling is a convenient and powerful tool to formulate, and the JijModeling Transpiler provides a simple interface to convert mathematical models to QUBO.\n",
    "It can also be used with OpenJij, for which a variety of solvers are available, to provide a comfortable development environment."
   ]
  },
  {
   "cell_type": "markdown",
   "metadata": {},
   "source": []
  }
 ],
 "metadata": {
  "kernelspec": {
   "display_name": "Python 3 (ipykernel)",
   "language": "python",
   "name": "python3"
  },
  "language_info": {
   "codemirror_mode": {
    "name": "ipython",
    "version": 3
   },
   "file_extension": ".py",
   "mimetype": "text/x-python",
   "name": "python",
   "nbconvert_exporter": "python",
   "pygments_lexer": "ipython3",
   "version": "3.10.6"
  },
  "vscode": {
   "interpreter": {
    "hash": "2e8d7574d7ec71e14cb1575cf43673432d6fae464c836a7b3733d4f6c20243fb"
   }
  }
 },
 "nbformat": 4,
 "nbformat_minor": 4
}
