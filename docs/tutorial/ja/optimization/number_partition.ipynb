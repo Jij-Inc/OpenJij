{
 "cells": [
  {
   "cell_type": "markdown",
   "metadata": {},
   "source": [
    "# 数分割問題\n",
    "\n",
    "こちらでは、[Lucas, 2014, \"Ising formulations of many NP problems\"](https://doi.org/10.3389/fphy.2014.00005)の 2.1. Number Partitioning を OpenJij と [JijModeling](https://www.ref.documentation.jijzept.com/jijmodeling/)、そして[JijModeling transpiler](https://www.ref.documentation.jijzept.com/jijmodeling-transpiler/) を用いて解く方法をご紹介します。\n",
    "\n",
    "## 概要: 数分割問題とは\n",
    "\n",
    "数分割問題は、与えられた数字の集合を足した合計値が等しくなるように2つの集合に分割する問題です。\n",
    "ここで、簡単な例を考えてみましょう。\n",
    "\n",
    "例えば、$A=\\{1,2,3,4\\}$という数字の集合$A$があるとします。\n",
    "この集合を合計値が等しくなるように分割するのは簡単で、$\\{1,4\\},\\{2,3\\}$とすれば、それぞれの集合の合計値が5になるということがわかります。\n",
    "このように、集合のサイズが小さい場合には、比較的簡単に答えがもとまりますが、これが大きくなるとすぐには解けません。\n",
    "そこで、このチュートリアルでは、この問題をアニーリングを使って解いてみましょう。"
   ]
  },
  {
   "cell_type": "code",
   "execution_count": 55,
   "metadata": {},
   "outputs": [],
   "source": [
    "from jijmodeling.transpiler.pyqubo import to_pyqubo\n",
    "import openjij as oj\n",
    "import jijmodeling as jm\n",
    "import numpy as np"
   ]
  },
  {
   "cell_type": "markdown",
   "metadata": {},
   "source": [
    "まず初めに、この問題のハミルトニアンを考えます。\n",
    "\n",
    "分割する集合を$A$とし、その要素を$a_i (i = \\{0,1,\\dots,N-1\\})$とします。\n",
    "ここで$N$はこの集合の要素数です。\n",
    "この集合$A$を二つの集合を$A_0$と$A_1$に分割するとします。\n",
    "この時、$x_i$を$A$の$i$番目の要素が、集合$A_0$に含まれる時0、$A_1$に含まれる時1となる変数とします。\n",
    "この変数$x_i$を用いると、$A_0$に入っている数の合計値は$\\sum_i a_i (1-x_i)$とかけ、$A_1$の$\\sum_i a_i x_i$となることがわかります。\n",
    "この問題は、$A_0$と$A_1$に含まれている数の合計値が等しくなるという制約を満たす解を求める問題ですので、これを式にすると、\n",
    "\n",
    "$$\\sum_i a_i (1-x_i)=\\sum_i a_i x_i$$\n",
    "\n",
    "という制約条件を満たす$x_i$を求めよという問題であることがわかります。\n",
    "これを式変形すると、$\\sum_i a_i (2-x_i)=0$と書くことができ、さらに、Penalty法を用いて、この制約条件を2乗したものをハミルトニアンとすると、結局、数分割問題のハミルトニアンは、\n",
    "\n",
    "$$H=\\left( \\sum_{i=0}^{N-1} a_i (2-x_i)\\right)^2$$\n",
    "\n",
    "となります。\n"
   ]
  },
  {
   "cell_type": "markdown",
   "metadata": {},
   "source": [
    "## JijModelingによるモデル構築\n",
    "上記のハミルトニアンをJijModelingを用いて定式化していきます。"
   ]
  },
  {
   "cell_type": "code",
   "execution_count": 10,
   "metadata": {},
   "outputs": [
    {
     "data": {
      "text/latex": [
       "$$\\begin{alignat*}{4}\\text{Problem} & \\text{: number partition} \\\\\\min & \\quad \\sum_{ i = 0 }^{ a_{\\mathrm{shape}(0)} - 1 } a_{i} \\cdot \\left( 2 \\cdot x_{i} - 1 \\right) ^ { 2 } \\\\& x_{i_{0}} \\in \\{0, 1\\}\\end{alignat*}$$"
      ],
      "text/plain": [
       "<jijmodeling.problem.problem.Problem at 0x7f2d6a6d49d0>"
      ]
     },
     "execution_count": 10,
     "metadata": {},
     "output_type": "execute_result"
    }
   ],
   "source": [
    "problem = jm.Problem(\"number partition\")\n",
    "a = jm.Placeholder(\"a\",dim = 1)\n",
    "N = a.shape[0]\n",
    "x = jm.Binary(\"x\",shape=(N,))\n",
    "i = jm.Element(\"i\",(0,N))\n",
    "s_i = 2*x[i] - 1\n",
    "problem += (jm.Sum(i,a[i] * s_i))**2\n",
    "problem"
   ]
  },
  {
   "cell_type": "markdown",
   "metadata": {},
   "source": [
    "### インスタンスデータの作成\n",
    "数理モデルができたのでここでは、1から40までの数字を分割するという問題を考えてみます。\n",
    "$N_{i}$から$N_{f}$まで連続する数を分割する問題(連続する数の合計数が偶数の時)では、分割の仕方はいろんなパターンがありますが分割された集合の合計値は、\n",
    "\n",
    "$$\\mathrm{total\\ value} = \\frac{(N_{i} + N_{f})(N_{f} - N_{i} + 1)}{4}$$\n",
    "\n",
    "と計算することができます。\n",
    "今考えている場合には、合計値は410になることが予想されます。\n",
    "実際に確かめてみましょう。"
   ]
  },
  {
   "cell_type": "code",
   "execution_count": 95,
   "metadata": {},
   "outputs": [],
   "source": [
    "N = 40\n",
    "instance_data = {\"a\":np.arange(1,N+1)}"
   ]
  },
  {
   "cell_type": "markdown",
   "metadata": {},
   "source": [
    "### JijModeling transpilerによるPyQUBOへの変換\n",
    "問題の入力データができたので、これをQUBOに変換します。"
   ]
  },
  {
   "cell_type": "code",
   "execution_count": 96,
   "metadata": {},
   "outputs": [],
   "source": [
    "model,cache = to_pyqubo(problem,instance_data,{})\n",
    "Q,offset = model.compile().to_qubo()"
   ]
  },
  {
   "cell_type": "markdown",
   "metadata": {},
   "source": [
    "### OpenJijによる最適化計算の実行\n",
    "OpenJijを用いて計算してみます。"
   ]
  },
  {
   "cell_type": "code",
   "execution_count": 97,
   "metadata": {},
   "outputs": [],
   "source": [
    "sampler = oj.SASampler(num_reads=1)\n",
    "res = sampler.sample_qubo(Q=Q)"
   ]
  },
  {
   "cell_type": "markdown",
   "metadata": {},
   "source": [
    "### デコードと解の表示\n",
    "得られた結果を見てみましょう。返された計算結果をデコードし、解析を行いやすくします。"
   ]
  },
  {
   "cell_type": "code",
   "execution_count": null,
   "metadata": {},
   "outputs": [],
   "source": [
    "decoded = cache.decode(res)"
   ]
  },
  {
   "cell_type": "markdown",
   "metadata": {},
   "source": [
    "ここでは、$A$の中で$A_1$に分類されたindexと$A_0$に分類されたindexを分けて、それらについて和をとっています。"
   ]
  },
  {
   "cell_type": "code",
   "execution_count": 103,
   "metadata": {},
   "outputs": [
    {
     "name": "stdout",
     "output_type": "stream",
     "text": [
      "class 1 : [ 1  4  5  8 10 11 12 14 16 21 22 23 26 30 31 32 33 35 37 39] , total value = 410\n",
      "class 0 : [ 2  3  6  7  9 13 15 17 18 19 20 24 25 27 28 29 34 36 38 40] , total value = 410\n"
     ]
    }
   ],
   "source": [
    "class_1_index = decoded.record.solution['x'][0][0][0]\n",
    "class_0_index = [i for i in range(0,N) if i not in class_1_index]\n",
    "\n",
    "class_1 = instance_data['a'][class_1_index]\n",
    "class_0 = instance_data['a'][class_0_index]\n",
    "\n",
    "print(f\"class 1 : {class_1} , total value = {np.sum(class_1)}\")\n",
    "print(f\"class 0 : {class_0} , total value = {np.sum(class_0)}\")"
   ]
  },
  {
   "cell_type": "markdown",
   "metadata": {},
   "source": [
    "我々の予想通り、それぞれの合計値410が得られていることがわかりました。"
   ]
  }
 ],
 "metadata": {
  "kernelspec": {
   "display_name": "Python 3 (ipykernel)",
   "language": "python",
   "name": "python3"
  },
  "language_info": {
   "codemirror_mode": {
    "name": "ipython",
    "version": 3
   },
   "file_extension": ".py",
   "mimetype": "text/x-python",
   "name": "python",
   "nbconvert_exporter": "python",
   "pygments_lexer": "ipython3",
   "version": "3.9.12"
  },
  "vscode": {
   "interpreter": {
    "hash": "5de874e2fc479b2d8c72d9b9d7199763e296392b542125e77f5cad711bb306ce"
   }
  }
 },
 "nbformat": 4,
 "nbformat_minor": 4
}
