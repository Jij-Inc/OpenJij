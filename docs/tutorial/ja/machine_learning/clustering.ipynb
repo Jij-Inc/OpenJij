{
 "cells": [
  {
   "cell_type": "markdown",
   "metadata": {},
   "source": [
    "# アニーリングを用いたクラスタリング\n",
    "\n",
    "このチュートリアルでは、アニーリングの応用の一例としてPyQUBOとOpenjijを利用したクラスタリングを取り上げます。  "
   ]
  },
  {
   "cell_type": "markdown",
   "metadata": {},
   "source": [
    "## クラスタリング\n",
    "\n",
    "クラスタリングとは与えられたデータを$n$個のクラスターに分けるというタスクです($n$は外部から与えられているとします)。簡単のため、今回はクラスター数が2を考えましょう。"
   ]
  },
  {
   "cell_type": "markdown",
   "metadata": {},
   "source": [
    "### クラスタリングのハミルトニアン\n",
    "今回は、以下のハミルトニアンを最小化することでクラスタリングを行います。\n",
    "\n",
    "$$\n",
    "H = - \\sum_{i, j} \\frac{1}{2}d_{i,j} (1 - \\sigma _i \\sigma_j)\n",
    "$$\n",
    "\n",
    "$i, j$はサンプルの番号、$d_{i,j}$は２つのサンプル間の距離、$\\sigma_i=\\{-1,1\\}$は２つのクラスターのどちらかに属しているかを表すスピン変数です。  \n",
    "このハミルトニアンの和の各項は   \n",
    "\n",
    "- $\\sigma_i  = \\sigma_j $のとき、0\n",
    "- $\\sigma_i  \\neq \\sigma_j $のとき、$d_{i,j}$  \n",
    "\n",
    "となります。右辺のマイナスに注意すると、ハミルトニアン全体では「異なるクラスに属しているサンプル同士の距離を最大にする$\\{\\sigma _1, \\sigma _2 \\ldots \\}$の組を選びなさい」という問題に帰着することがわかります。"
   ]
  },
  {
   "cell_type": "markdown",
   "metadata": {},
   "source": [
    "\n",
    "### 必要なライブラリのインポート"
   ]
  },
  {
   "cell_type": "code",
   "execution_count": null,
   "metadata": {},
   "outputs": [],
   "source": [
    "!pip install jijmodeling-transpiler"
   ]
  },
  {
   "cell_type": "code",
   "execution_count": 4,
   "metadata": {},
   "outputs": [],
   "source": [
    "# ライブラリのインポート\n",
    "import numpy as np\n",
    "from matplotlib import pyplot as plt\n",
    "import pandas as pd\n",
    "from scipy.spatial import distance_matrix\n",
    "\n",
    "import openjij as oj\n",
    "import jijmodeling as jm\n",
    "from jijmodeling.transpiler.pyqubo.to_pyqubo import to_pyqubo"
   ]
  },
  {
   "cell_type": "markdown",
   "metadata": {},
   "source": [
    "###  JijModelingとOpenJijを用いたクラスタリング\n",
    "\n",
    "最初に、JijModelingを用いた上記のハミルトニアンを定式化します。JijModelingでは、スピン変数$\\sigma_i$を扱えないので、バイナリ変数$x_i$で書けるように、$\\sigma_i = 2x_i - 1$という関係を用いて書き直します。"
   ]
  },
  {
   "cell_type": "code",
   "execution_count": null,
   "metadata": {},
   "outputs": [
    {
     "data": {
      "text/latex": [
       "$$\\begin{alignat*}{4}\\text{Problem} & \\text{: clustering} \\\\\\min & \\quad - \\sum_{ i = 0 }^{ N - 1 } \\sum_{ j = 0 }^{ N - 1 } \\left( 1 - \\left( 2 \\cdot x_{i} - 1 \\right) \\cdot \\left( 2 \\cdot x_{j} - 1 \\right) \\right) \\\\& x_{i_{0}} \\in \\{0, 1\\}\\end{alignat*}$$"
      ],
      "text/plain": [
       "<jijmodeling.problem.problem.Problem at 0x288e8de80>"
      ]
     },
     "execution_count": 49,
     "metadata": {},
     "output_type": "execute_result"
    }
   ],
   "source": [
    "problem = jm.Problem(\"clustering\")\n",
    "d = jm.Placeholder(\"d\", dim=2)\n",
    "N = d.shape[0]\n",
    "x = jm.Binary(\"x\", shape=(N))\n",
    "i = jm.Element(\"i\", (0, N))\n",
    "j = jm.Element(\"j\", (0, N))\n",
    "problem += (\n",
    "    -1 / 2 * jm.Sum([i, j], d[i, j] * (1 - (2 * x[i] - 1) * (2 * x[j] - 1)))\n",
    ")\n",
    "problem"
   ]
  },
  {
   "cell_type": "markdown",
   "metadata": {},
   "source": [
    "### 人工データの生成\n",
    "\n",
    "今回は人工的に二次元平面上の明らかに線形分離可能なデータを生成しましょう。"
   ]
  },
  {
   "cell_type": "code",
   "execution_count": 5,
   "metadata": {},
   "outputs": [],
   "source": [
    "data = []\n",
    "label = []\n",
    "for i in range(100):\n",
    "    # [0, 1]の乱数を生成\n",
    "    p = np.random.uniform(0, 1)\n",
    "    # ある条件を満たすときをクラス1、満たさないときを-1\n",
    "    cls =1 if p>0.5 else -1\n",
    "    # ある座標を中心とする正規分布に従う乱数を作成\n",
    "    data.append(np.random.normal(0, 0.5, 2) + np.array([cls, cls]))\n",
    "    label.append(cls)\n",
    "# DataFrameとして整形\n",
    "df1 = pd.DataFrame(data, columns=[\"x\", \"y\"], index=range(len(data)))\n",
    "df1[\"label\"] = label"
   ]
  },
  {
   "cell_type": "code",
   "execution_count": 6,
   "metadata": {},
   "outputs": [
    {
     "data": {
      "image/png": "[encoded data removed]",
      "text/plain": [
       "<Figure size 640x480 with 1 Axes>"
      ]
     },
     "metadata": {},
     "output_type": "display_data"
    }
   ],
   "source": [
    "# データセットの可視化\n",
    "df1.plot(kind='scatter', x=\"x\", y=\"y\")"
   ]
  },
  {
   "cell_type": "code",
   "execution_count": 51,
   "metadata": {},
   "outputs": [],
   "source": [
    "instance_data = {'d':distance_matrix(df1, df1)}"
   ]
  },
  {
   "cell_type": "markdown",
   "metadata": {},
   "source": [
    "## OpenJijを使ってクラスタリング問題を解く\n",
    "数理モデルとデータができたので、早速、Openjijを使って問題を解いていきましょう。"
   ]
  },
  {
   "cell_type": "code",
   "execution_count": 19,
   "metadata": {},
   "outputs": [],
   "source": [
    "pyq_obj, pyq_cache = to_pyqubo(problem, instance_data, {})\n",
    "qubo, constant = pyq_obj.compile().to_qubo()\n",
    "sampler = oj.SASampler()\n",
    "response = sampler.sample_qubo(qubo)\n",
    "result = pyq_cache.decode(response)"
   ]
  },
  {
   "cell_type": "markdown",
   "metadata": {},
   "source": [
    "可視化をしてみましょう。"
   ]
  },
  {
   "cell_type": "code",
   "execution_count": 21,
   "metadata": {},
   "outputs": [
    {
     "data": {
      "image/png": "[encoded data removed]",
      "text/plain": [
       "<Figure size 432x288 with 1 Axes>"
      ]
     },
     "metadata": {
      "needs_background": "light"
     },
     "output_type": "display_data"
    }
   ],
   "source": [
    "for idx in range(0, N):\n",
    "    if idx in result.record.solution[\"x\"][0][0][0]:\n",
    "        plt.scatter(df1.loc[idx][\"x\"], df1.loc[idx][\"y\"], color=\"b\")\n",
    "    else:\n",
    "        plt.scatter(df1.loc[idx][\"x\"], df1.loc[idx][\"y\"], color=\"r\")"
   ]
  },
  {
   "cell_type": "markdown",
   "metadata": {},
   "source": [
    "赤と青のクラスに分類できていることがわかります。"
   ]
  }
 ],
 "metadata": {
  "kernelspec": {
   "display_name": "Python 3.8.10 64-bit",
   "language": "python",
   "name": "python3"
  },
  "language_info": {
   "codemirror_mode": {
    "name": "ipython",
    "version": 3
   },
   "file_extension": ".py",
   "mimetype": "text/x-python",
   "name": "python",
   "nbconvert_exporter": "python",
   "pygments_lexer": "ipython3",
   "version": "3.8.10"
  },
  "vscode": {
   "interpreter": {
    "hash": "31f2aee4e71d21fbe5cf8b01ff0e069b9275f58929596ceb00d14d90e3e16cd6"
   }
  }
 },
 "nbformat": 4,
 "nbformat_minor": 2
}
