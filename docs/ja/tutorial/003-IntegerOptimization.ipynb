{
 "cells": [
  {
   "cell_type": "markdown",
   "id": "fa6a210a",
   "metadata": {},
   "source": [
    "# 整数制約なし最適化問題: QUIO と HUIO"
   ]
  },
  {
   "cell_type": "markdown",
   "id": "56254e72",
   "metadata": {},
   "source": [
    "通常のイジング模型やQUBOでは変数は2値のバイナリ変数 $\\sigma_i \\in \\{-1, +1\\}$ または $x_i \\in \\{0, 1\\}$ に限定されています。しかし、実際の最適化問題では整数値の変数を扱う必要がある場合が多くあります。\n",
    "\n",
    "OpenJijでは、変数が整数値を取ることができる最適化問題を直接解くことができます：\n",
    "\n",
    "- **QUIO (Quadratic Unconstrained Integer Optimization)**: 2次以下の項のみを含む整数制約なし最適化問題\n",
    "- **HUIO (Higher-order Unconstrained Integer Optimization)**: 高次の項も含む整数制約なし最適化問題\n",
    "\n",
    "このチュートリアルでは、OpenJijの `sample_quio` および `sample_huio` メソッドを使って、これらの問題を解く方法を学びます。"
   ]
  },
  {
   "cell_type": "markdown",
   "id": "a672eaa9",
   "metadata": {},
   "source": [
    "## QUIO: 2次整数制約なし最適化問題\n",
    "\n",
    "まず、2次以下の項のみを含む整数制約なし最適化問題（QUIO）から始めましょう。以下のようなエネルギー関数を考えます：\n",
    "\n",
    "$$\n",
    "H = c + \\sum_i h_i x_i + \\sum_{i<j} J_{ij} x_i x_j\n",
    "$$\n",
    "\n",
    "ここで、$x_i$ は整数変数で、各変数は指定された範囲 $[\\text{lower}_i, \\text{upper}_i]$ の整数値を取ることができます。\n",
    "\n",
    "### 具体例：物流最適化問題\n",
    "\n",
    "以下のような物流センターの配送最適化問題を考えてみましょう：\n",
    "\n",
    "- 変数 $x_1$: 配送ルート1の配送回数（0～5回）\n",
    "- 変数 $x_2$: 配送ルート2の配送回数（0～3回）\n",
    "- 変数 $x_3$: 配送ルート3の配送回数（0～4回）\n",
    "\n",
    "目的関数：\n",
    "$$\n",
    "H = 10 - 5x_1 - 3x_2 - 4x_3 + 2x_1x_2 + x_1x_3 + 1.5x_2x_3\n",
    "$$\n",
    "\n",
    "この問題をOpenJijで解いてみましょう。"
   ]
  },
  {
   "cell_type": "code",
   "execution_count": null,
   "id": "75a60b7c",
   "metadata": {},
   "outputs": [],
   "source": [
    "# OpenJijのインストール（必要に応じて）\n",
    "!pip install openjij"
   ]
  },
  {
   "cell_type": "code",
   "execution_count": null,
   "id": "969ab01d",
   "metadata": {},
   "outputs": [],
   "source": [
    "import openjij as oj\n",
    "import numpy as np\n",
    "import matplotlib.pyplot as plt\n",
    "\n",
    "# QUIOMEPTROPOLISに対応するサンプラーを作成\n",
    "sampler = oj.SASampler()"
   ]
  },
  {
   "cell_type": "code",
   "execution_count": null,
   "id": "ef01319a",
   "metadata": {},
   "outputs": [],
   "source": [
    "# QUIO問題の定義\n",
    "# 相互作用の辞書：キーはタプル、値は係数\n",
    "J_quio = {\n",
    "    (): 10,        # 定数項\n",
    "    (1,): -5,      # x1の線形項\n",
    "    (2,): -3,      # x2の線形項\n",
    "    (3,): -4,      # x3の線形項\n",
    "    (1, 2): 2,     # x1*x2の2次項\n",
    "    (1, 3): 1,     # x1*x3の2次項\n",
    "    (2, 3): 1.5    # x2*x3の2次項\n",
    "}\n",
    "\n",
    "# 変数の範囲を指定\n",
    "bound_list_quio = {\n",
    "    1: (0, 5),  # x1は0から5の整数\n",
    "    2: (0, 3),  # x2は0から3の整数\n",
    "    3: (0, 4)   # x3は0から4の整数\n",
    "}\n",
    "\n",
    "print(\"QUIO問題:\")\n",
    "print(f\"相互作用: {J_quio}\")\n",
    "print(f\"変数の範囲: {bound_list_quio}\")"
   ]
  },
  {
   "cell_type": "code",
   "execution_count": null,
   "id": "f8a4ecd8",
   "metadata": {},
   "outputs": [],
   "source": [
    "# sample_quioメソッドでQUIO問題を解く\n",
    "response_quio = sampler.sample_quio(\n",
    "    J=J_quio,\n",
    "    bound_list=bound_list_quio,\n",
    "    num_sweeps=1000,\n",
    "    num_reads=10,\n",
    "    seed=12345\n",
    ")\n",
    "\n",
    "print(\"QUIO解法結果:\")\n",
    "for i, (sample, energy) in enumerate(zip(response_quio.samples(), response_quio.data_vectors['energy'])):\n",
    "    print(f\"解 {i+1}: {sample}, エネルギー: {energy:.3f}\")\n",
    "    if i >= 4:  # 最初の5つの解のみ表示\n",
    "        break"
   ]
  },
  {
   "cell_type": "code",
   "execution_count": null,
   "id": "1ce0253b",
   "metadata": {},
   "outputs": [],
   "source": [
    "# 最適解の詳細分析\n",
    "best_sample = response_quio.first.sample\n",
    "best_energy = response_quio.first.energy\n",
    "\n",
    "print(f\"最適解: x1={best_sample[1]}, x2={best_sample[2]}, x3={best_sample[3]}\")\n",
    "print(f\"最小エネルギー: {best_energy:.3f}\")\n",
    "\n",
    "# エネルギー値の検証\n",
    "x1, x2, x3 = best_sample[1], best_sample[2], best_sample[3]\n",
    "manual_energy = 10 - 5*x1 - 3*x2 - 4*x3 + 2*x1*x2 + 1*x1*x3 + 1.5*x2*x3\n",
    "print(f\"手動計算でのエネルギー: {manual_energy:.3f}\")"
   ]
  },
  {
   "cell_type": "markdown",
   "id": "daf40fde",
   "metadata": {},
   "source": [
    "## HUIO: 高次整数制約なし最適化問題\n",
    "\n",
    "次に、高次の項も含む整数制約なし最適化問題（HUIO）を解いてみましょう。HUIOMETROPOLISは3次以上の項も扱うことができます：\n",
    "\n",
    "$$\n",
    "H = c + \\sum_i h_i x_i + \\sum_{i<j} J_{ij} x_i x_j + \\sum_{i<j<k} K_{ijk} x_i x_j x_k + \\cdots\n",
    "$$\n",
    "\n",
    "### 具体例：生産計画問題\n",
    "\n",
    "以下のような製造業の生産計画問題を考えてみましょう：\n",
    "\n",
    "- 変数 $y_1$: 製品Aの生産量（0～4個）\n",
    "- 変数 $y_2$: 製品Bの生産量（0～3個）\n",
    "- 変数 $y_3$: 製品Cの生産量（0～2個）\n",
    "\n",
    "目的関数（製造コストの最小化）：\n",
    "$$\n",
    "H = 5 - 8y_1 - 6y_2 - 4y_3 + 3y_1y_2 + 2y_1y_3 + 2.5y_2y_3 + 0.5y_1y_2y_3\n",
    "$$\n",
    "\n",
    "3次項 $y_1y_2y_3$ は、3つの製品を同時に生産する際の相乗効果を表現しています。"
   ]
  },
  {
   "cell_type": "code",
   "execution_count": null,
   "id": "5b57b429",
   "metadata": {},
   "outputs": [],
   "source": [
    "# HUIO問題の定義\n",
    "J_huio = {\n",
    "    (): 5,         # 定数項\n",
    "    (1,): -8,      # y1の線形項\n",
    "    (2,): -6,      # y2の線形項\n",
    "    (3,): -4,      # y3の線形項\n",
    "    (1, 2): 3,     # y1*y2の2次項\n",
    "    (1, 3): 2,     # y1*y3の2次項\n",
    "    (2, 3): 2.5,   # y2*y3の2次項\n",
    "    (1, 2, 3): 0.5 # y1*y2*y3の3次項\n",
    "}\n",
    "\n",
    "# 変数の範囲を指定\n",
    "bound_list_huio = {\n",
    "    1: (0, 4),  # y1は0から4の整数\n",
    "    2: (0, 3),  # y2は0から3の整数\n",
    "    3: (0, 2)   # y3は0から2の整数\n",
    "}\n",
    "\n",
    "print(\"HUIO問題:\")\n",
    "print(f\"相互作用: {J_huio}\")\n",
    "print(f\"変数の範囲: {bound_list_huio}\")"
   ]
  },
  {
   "cell_type": "code",
   "execution_count": null,
   "id": "d0312630",
   "metadata": {},
   "outputs": [],
   "source": [
    "# sample_huioメソッドでHUIO問題を解く\n",
    "response_huio = sampler.sample_huio(\n",
    "    J=J_huio,\n",
    "    bound_list=bound_list_huio,\n",
    "    num_sweeps=1000,\n",
    "    num_reads=10,\n",
    "    seed=12345\n",
    ")\n",
    "\n",
    "print(\"HUIO解法結果:\")\n",
    "for i, (sample, energy) in enumerate(zip(response_huio.samples(), response_huio.data_vectors['energy'])):\n",
    "    print(f\"解 {i+1}: {sample}, エネルギー: {energy:.3f}\")\n",
    "    if i >= 4:  # 最初の5つの解のみ表示\n",
    "        break"
   ]
  },
  {
   "cell_type": "code",
   "execution_count": null,
   "id": "5f8e18ae",
   "metadata": {},
   "outputs": [],
   "source": [
    "# 最適解の詳細分析\n",
    "best_sample_huio = response_huio.first.sample\n",
    "best_energy_huio = response_huio.first.energy\n",
    "\n",
    "print(f\"最適解: y1={best_sample_huio[1]}, y2={best_sample_huio[2]}, y3={best_sample_huio[3]}\")\n",
    "print(f\"最小エネルギー: {best_energy_huio:.3f}\")\n",
    "\n",
    "# エネルギー値の検証\n",
    "y1, y2, y3 = best_sample_huio[1], best_sample_huio[2], best_sample_huio[3]\n",
    "manual_energy_huio = (5 - 8*y1 - 6*y2 - 4*y3 + \n",
    "                      3*y1*y2 + 2*y1*y3 + 2.5*y2*y3 + \n",
    "                      0.5*y1*y2*y3)\n",
    "print(f\"手動計算でのエネルギー: {manual_energy_huio:.3f}\")"
   ]
  },
  {
   "cell_type": "markdown",
   "id": "be7fc26c",
   "metadata": {},
   "source": [
    "## 解の可視化と比較\n",
    "\n",
    "QUIOMETROPOLISとHUIOMETROPOLISで得られた解を可視化して比較してみましょう。"
   ]
  },
  {
   "cell_type": "code",
   "execution_count": null,
   "id": "d312c2b3",
   "metadata": {},
   "outputs": [],
   "source": [
    "# エネルギー分布の可視化\n",
    "fig, (ax1, ax2) = plt.subplots(1, 2, figsize=(12, 5))\n",
    "\n",
    "# QUIO結果\n",
    "energies_quio = response_quio.data_vectors['energy']\n",
    "ax1.hist(energies_quio, bins=10, alpha=0.7, color='blue', edgecolor='black')\n",
    "ax1.axvline(best_energy, color='red', linestyle='--', linewidth=2, label=f'最適解: {best_energy:.3f}')\n",
    "ax1.set_xlabel('エネルギー')\n",
    "ax1.set_ylabel('頻度')\n",
    "ax1.set_title('QUIO エネルギー分布')\n",
    "ax1.legend()\n",
    "ax1.grid(True, alpha=0.3)\n",
    "\n",
    "# HUIO結果\n",
    "energies_huio = response_huio.data_vectors['energy']\n",
    "ax2.hist(energies_huio, bins=10, alpha=0.7, color='green', edgecolor='black')\n",
    "ax2.axvline(best_energy_huio, color='red', linestyle='--', linewidth=2, label=f'最適解: {best_energy_huio:.3f}')\n",
    "ax2.set_xlabel('エネルギー')\n",
    "ax2.set_ylabel('頻度')\n",
    "ax2.set_title('HUIO エネルギー分布')\n",
    "ax2.legend()\n",
    "ax2.grid(True, alpha=0.3)\n",
    "\n",
    "plt.tight_layout()\n",
    "plt.show()"
   ]
  },
  {
   "cell_type": "code",
   "execution_count": null,
   "id": "227684ec",
   "metadata": {},
   "outputs": [],
   "source": [
    "# 解の収束性を確認\n",
    "print(\"解の統計情報:\")\n",
    "print(\"\\nQUIO:\")\n",
    "print(f\"  最小エネルギー: {min(energies_quio):.3f}\")\n",
    "print(f\"  平均エネルギー: {np.mean(energies_quio):.3f}\")\n",
    "print(f\"  標準偏差: {np.std(energies_quio):.3f}\")\n",
    "\n",
    "print(\"\\nHUIO:\")\n",
    "print(f\"  最小エネルギー: {min(energies_huio):.3f}\")\n",
    "print(f\"  平均エネルギー: {np.mean(energies_huio):.3f}\")\n",
    "print(f\"  標準偏差: {np.std(energies_huio):.3f}\")"
   ]
  },
  {
   "cell_type": "markdown",
   "id": "224afd2a",
   "metadata": {},
   "source": [
    "## パラメータ調整の影響\n",
    "\n",
    "最適化性能に影響を与える重要なパラメータの効果を調べてみましょう。"
   ]
  },
  {
   "cell_type": "code",
   "execution_count": null,
   "id": "9389d6af",
   "metadata": {},
   "outputs": [],
   "source": [
    "# 異なるsweep数での性能比較\n",
    "sweep_values = [100, 500, 1000, 2000]\n",
    "results_comparison = []\n",
    "\n",
    "print(\"sweep数による性能比較（HUIO問題）:\")\n",
    "for num_sweeps in sweep_values:\n",
    "    response = sampler.sample_huio(\n",
    "        J=J_huio,\n",
    "        bound_list=bound_list_huio,\n",
    "        num_sweeps=num_sweeps,\n",
    "        num_reads=5,\n",
    "        seed=12345\n",
    "    )\n",
    "    \n",
    "    best_energy = response.first.energy\n",
    "    mean_energy = np.mean(response.data_vectors['energy'])\n",
    "    results_comparison.append((num_sweeps, best_energy, mean_energy))\n",
    "    \n",
    "    print(f\"sweeps={num_sweeps:4d}: 最良={best_energy:7.3f}, 平均={mean_energy:7.3f}\")"
   ]
  },
  {
   "cell_type": "code",
   "execution_count": null,
   "id": "9cc63a66",
   "metadata": {},
   "outputs": [],
   "source": [
    "# パラメータ比較の可視化\n",
    "sweeps, best_energies, mean_energies = zip(*results_comparison)\n",
    "\n",
    "plt.figure(figsize=(10, 6))\n",
    "plt.plot(sweeps, best_energies, 'bo-', label='最良エネルギー', linewidth=2, markersize=8)\n",
    "plt.plot(sweeps, mean_energies, 'rs-', label='平均エネルギー', linewidth=2, markersize=8)\n",
    "plt.xlabel('Sweep数')\n",
    "plt.ylabel('エネルギー')\n",
    "plt.title('Sweep数による最適化性能の変化')\n",
    "plt.legend()\n",
    "plt.grid(True, alpha=0.3)\n",
    "plt.xscale('log')\n",
    "plt.show()"
   ]
  },
  {
   "cell_type": "markdown",
   "id": "20f4c327",
   "metadata": {},
   "source": [
    "## まとめ\n",
    "\n",
    "このチュートリアルでは、OpenJijを使った整数制約なし最適化問題の解法を学びました：\n",
    "\n",
    "### QUIO (Quadratic Unconstrained Integer Optimization)\n",
    "- 2次以下の項のみを含む整数最適化問題\n",
    "- `sample_quio` メソッドを使用\n",
    "- 物流、スケジューリング等の応用に適している\n",
    "\n",
    "### HUIO (Higher-order Unconstrained Integer Optimization)\n",
    "- 高次の項も含む整数最適化問題\n",
    "- `sample_huio` メソッドを使用\n",
    "- より複雑な相互作用を表現可能\n",
    "- 化学、生産計画等の高次相関がある問題に適している\n",
    "\n",
    "### 重要なポイント\n",
    "1. **変数の範囲指定**: `bound_list` で各変数の取りうる整数値の範囲を指定\n",
    "2. **相互作用の表現**: 辞書形式でタプルをキーとして相互作用を定義\n",
    "3. **パラメータ調整**: `num_sweeps`, `num_reads` 等のパラメータで最適化性能を調整\n",
    "4. **高次項の利点**: 変数間の複雑な関係を直接表現可能\n",
    "\n",
    "これらの手法により、バイナリ変数では表現困難な実世界の最適化問題を効率的に解くことができます。"
   ]
  }
 ],
 "metadata": {
  "language_info": {
   "name": "python"
  }
 },
 "nbformat": 4,
 "nbformat_minor": 5
}
