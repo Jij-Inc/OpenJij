{
 "cells": [
  {
   "cell_type": "markdown",
   "metadata": {},
   "source": [
    "# Jijmodelingを用いた数理モデルの構築とOpenJijでの最適化計算\n",
    "このチュートリアルでは、Jijmodelingを用いて数理モデルを定式化し、得られた数理モデルをQUBOに変換し、OpenJijで解くという流れを説明したいと思います。\n",
    "\n"
   ]
  },
  {
   "cell_type": "markdown",
   "metadata": {},
   "source": [
    "まず初めに、必要なパッケージをインストールします。\n",
    "数理モデルを簡単に構築するためのモジュールであるJijmodelingとJijmodelingで記述された数理モデルをQUBOに変換するためのモジュールであるjijmodeling-transpilerをインストールします。\n",
    "これらは、`pip`を使ってインストールすることができます。"
   ]
  },
  {
   "cell_type": "code",
   "execution_count": null,
   "metadata": {},
   "outputs": [],
   "source": [
    "!pip install jijmodeling\n",
    "!pip install jijmodeling-transpiler"
   ]
  },
  {
   "cell_type": "code",
   "execution_count": 104,
   "metadata": {},
   "outputs": [],
   "source": [
    "import jijmodeling as jm\n",
    "import numpy as np\n",
    "import matplotlib.pyplot as plt"
   ]
  },
  {
   "cell_type": "markdown",
   "metadata": {},
   "source": [
    "# 巡回セールスマン問題\n",
    "制約条件付き最適化問題の例として巡回セールスマン問題を解いていきたいと思います。\n",
    "巡回セールスマン問題は、一人のセールスマンが決められた都市を全て一度づつ訪問し、最終的に元の都市に帰ってくる時に、都市を巡回する最短経路を求めろという問題です。\n",
    "\n",
    "### 制約条件\n",
    "この問題では、セールスマンは一つの地点に一度しか訪れることができないという位置に関する制約条件と、セールスマンが一人なのである時刻では一つの都市にしか存在しないという時間に関する制約条件が存在します。\n",
    "\n",
    "$t$番目に都市$i$を訪れるとき$x_{t,i}=1$、それ以外では$x_{t,i}=0$とするバイナリ変数を用いると、上記の二つの制約条件は、\n",
    "\n",
    "\n",
    "$$\\text{位置に関する制約条件 : }\\sum_{t=1}^N x_{t,i}=1 \\quad \\forall i$$\n",
    "\n",
    "$$\\text{時間に関する制約条件 : }\\sum_{i=1}^N x_{t,i}=1 \\quad \\forall t$$\n",
    "\n",
    "と書くことができます。\n",
    "\n",
    "### 目的関数\n",
    "巡回セールスマン問題は、都市を巡回する最短経路を求めろという問題でした。\n",
    "そこで、地点$i$と$j$の間の距離を$d_{ij}$とすると、時刻$t$で都市$i$を訪れ、時刻$t+1$で都市$j$を訪れた時の移動距離は、\n",
    "\n",
    "$$d_{ij}x_{t,i}x_{t+1,j}$$\n",
    "\n",
    "と書くことができます。\n",
    "これを合計したもの、\n",
    "\n",
    "$$\\sum_{t=1}^N\\sum_{i=1}^N \\sum_{j=1}^N d_{ij}x_{t,i}x_{t+1,j}$$\n",
    "\n",
    "が今回最小化したい目的関数である、合計移動距離になります。"
   ]
  },
  {
   "cell_type": "markdown",
   "metadata": {},
   "source": [
    "これまでのチュートリアルで述べたようにイジング最適化を行うためには、このような制約条件を持つ数理モデルをIsingハミルトニアンやQUBOハミルトニアンに変換する必要があります。\n",
    "このような作業を手で行うと面倒ですし、実際に構築した数理モデルとQUBOの間にバグが入り込む可能性があります。\n",
    "そこで、このような作業を全て自動でおこなってくれるのがJijModelingです。\n",
    "JijModelingを用いることで、上記のように構築した数理モデルをコーディングし、それを自動的にQUBOに変換してくれます。\n",
    "ここでは、上記で説明した巡回セールスマン問題を例にとって、JijModelingの使い方について説明していきます。"
   ]
  },
  {
   "cell_type": "markdown",
   "metadata": {},
   "source": [
    "## JijModelingを用いた巡回セールスマン問題の数理モデルの構築\n",
    "まず初めに、JijModelingを用いて、問題の数式を記述していきます。\n",
    "JijModelingでは、通常の数理最適化計算用のモデラーとは異なり、問題インスタンスのデータとは独立に数理モデルを構築していきます。\n",
    "このように数理モデルを構築することで、数理モデルの汎用性が担保でき、かつ、紙の上で数式を書くように直感的に数式を記述することができます。\n",
    "さらに、JijModelingで記述された数理モデルは、notebook上ではtexで確認することができます。\n",
    "\n",
    "ここでは、JijModelingを用いた数理モデルの構築についてひとつづつ見ていきたいと思います。"
   ]
  },
  {
   "cell_type": "markdown",
   "metadata": {},
   "source": [
    "まずは、問題を記述するための変数と定数を表現しましょう。"
   ]
  },
  {
   "cell_type": "code",
   "execution_count": 105,
   "metadata": {},
   "outputs": [],
   "source": [
    "dist = jm.Placeholder(\"dist\", dim=2)\n",
    "N = jm.Placeholder(\"N\")\n",
    "x = jm.Binary(\"x\", shape=(N, N))\n",
    "i = jm.Element(\"i\", (0,N))\n",
    "j = jm.Element(\"j\", (0,N))\n",
    "t = jm.Element(\"t\", (0,N))"
   ]
  },
  {
   "cell_type": "markdown",
   "metadata": {},
   "source": [
    "ここで、`jm.Placeholder`は定数を表現しており、ここでは距離行列と都市数を表現するのに用いています。\n",
    "巡回セールスマン問題においては、この距離行列と都市数によってさまざまな問題が表現されることになります。\n",
    "\n",
    "バイナリ変数を表現するのが、`jm.Binary`です。\n",
    "ここでは、$N\\times N$のバイナリ変数を定義しています。\n",
    "次に、総和などで添字の範囲を表現するために`jm.Element`を用いて、`i`,`j`,`t`という添字を定義しています。\n",
    "\n",
    "JijModelingでは、`jm.Problem`インスタンスを作成し、それに目的関数や制約条件を追加していきます。\n",
    "では次に、定義した変数を用いて目的関数を定義していきます。"
   ]
  },
  {
   "cell_type": "code",
   "execution_count": 106,
   "metadata": {},
   "outputs": [
    {
     "data": {
      "text/latex": [
       "$$\\begin{alignat*}{4}\\text{Problem} & \\text{: TSP} \\\\\\min & \\quad \\sum_{ t = 0 }^{ N - 1 } \\sum_{ i = 0 }^{ N - 1 } \\sum_{ j = 0 }^{ N - 1 } dist_{i,j} \\cdot x_{t,i} \\cdot x_{\\left( t + 1 \\right) \\mod N,j} \\\\& x_{i_{0},i_{1}} \\in \\{0, 1\\}\\end{alignat*}$$"
      ],
      "text/plain": [
       "<jijmodeling.problem.problem.Problem at 0x7f7337319ca0>"
      ]
     },
     "execution_count": 106,
     "metadata": {},
     "output_type": "execute_result"
    }
   ],
   "source": [
    "problem = jm.Problem(\"TSP\")\n",
    "obj = jm.Sum([t, i, j], dist[i, j] * x[t, i] * x[(t + 1) % N, j])\n",
    "problem += obj\n",
    "problem"
   ]
  },
  {
   "cell_type": "markdown",
   "metadata": {},
   "source": [
    "総和は`jm.Sum`を用いて表現することができます。\n",
    "`jm.Sum`の最初の引数は総和をとる添字で、TSPの目的関数では、3つの添字について総和を取るので、それらの添字(`jm.element`)をリストで渡しています。\n",
    "\n",
    "次に、制約条件を追加していきます。"
   ]
  },
  {
   "cell_type": "code",
   "execution_count": 107,
   "metadata": {},
   "outputs": [],
   "source": [
    "# 制約条件1 : 位置に関するonehot制約\n",
    "problem += jm.Constraint(\n",
    "            \"onehot_location\",\n",
    "            x[:, i] == 1,\n",
    "            forall=[i,],\n",
    "        )\n",
    "\n",
    "# 制約条件2 : 時間に関するonehot制約\n",
    "problem += jm.Constraint(\n",
    "            \"onehot_time\",\n",
    "            x[t, :] == 1,\n",
    "            forall=[t,],\n",
    "        )"
   ]
  },
  {
   "cell_type": "markdown",
   "metadata": {},
   "source": [
    "`jm.Constraint`を用いて制約条件表現することができます。\n",
    "最初の引数は制約条件の名前、2つ目の引数が制約条件を表現した数式になります。\n",
    "\n",
    "この制約条件には、オプション引数として、`forall`というものがあります。\n",
    "これは、数理モデルにおいて、「任意の$i$について」や、「$\\forall i$」というように表現されているものをJijmodelingで表現するための引数です。\n",
    "\n",
    "また、制約条件の中に現れている`x[:,i]`という記法は、`jm.Sum(t,x[t,i])`という書き方の糖衣構文になっています。\n",
    "\n",
    "最後に、今記述した数理モデルを確認してみましょう。"
   ]
  },
  {
   "cell_type": "code",
   "execution_count": 108,
   "metadata": {},
   "outputs": [
    {
     "data": {
      "text/latex": [
       "$$\\begin{alignat*}{4}\\text{Problem} & \\text{: TSP} \\\\\\min & \\quad \\sum_{ t = 0 }^{ N - 1 } \\sum_{ i = 0 }^{ N - 1 } \\sum_{ j = 0 }^{ N - 1 } dist_{i,j} \\cdot x_{t,i} \\cdot x_{\\left( t + 1 \\right) \\mod N,j} \\\\\\text{s.t.} & \\\\& \\text{onehot\\_location} :\\\\ &\\quad \\quad \\sum_{ \\bar{i}_{0} = 0 }^{ N - 1 } x_{\\bar{i}_{0},i} = 1,\\ \\forall i \\in \\left\\{ 0 ,\\ldots , N - 1 \\right\\} \\\\[8pt]& \\text{onehot\\_time} :\\\\ &\\quad \\quad \\sum_{ \\bar{i}_{1} = 0 }^{ N - 1 } x_{t,\\bar{i}_{1}} = 1,\\ \\forall t \\in \\left\\{ 0 ,\\ldots , N - 1 \\right\\} \\\\[8pt]& x_{i_{0},i_{1}} \\in \\{0, 1\\}\\end{alignat*}$$"
      ],
      "text/plain": [
       "<jijmodeling.problem.problem.Problem at 0x7f7337319ca0>"
      ]
     },
     "execution_count": 108,
     "metadata": {},
     "output_type": "execute_result"
    }
   ],
   "source": [
    "problem"
   ]
  },
  {
   "cell_type": "markdown",
   "metadata": {},
   "source": [
    "説明で用いた数理モデルと同じ数式が表示されていることがわかります。\n",
    "\n",
    "以上で、数理モデルの構築は終わりです。\n",
    "このようにJijModelingを用いると、手元の数式と見比べながら数理モデルをコーディングしていくことができます。"
   ]
  },
  {
   "cell_type": "markdown",
   "metadata": {},
   "source": [
    "## 問題データの作成\n",
    "問題の数理モデルができたので、次に問題に使うデータを作成します。\n",
    "ここでは、単純な都市数10で、都市間の距離をランダムにした問題を解いていきます。"
   ]
  },
  {
   "cell_type": "code",
   "execution_count": 109,
   "metadata": {},
   "outputs": [
    {
     "data": {
      "text/plain": [
       "(0.0, 1.0)"
      ]
     },
     "execution_count": 109,
     "metadata": {},
     "output_type": "execute_result"
    },
    {
     "data": {
      "image/png": "[encoded data removed]",
      "text/plain": [
       "<Figure size 640x480 with 1 Axes>"
      ]
     },
     "metadata": {},
     "output_type": "display_data"
    }
   ],
   "source": [
    "N = 5\n",
    "np.random.seed(3)\n",
    "\n",
    "x_pos = np.random.rand(N) \n",
    "y_pos = np.random.rand(N) \n",
    "\n",
    "plt.plot(x_pos, y_pos, 'o')\n",
    "plt.xlim(0, 1)\n",
    "plt.ylim(0, 1)"
   ]
  },
  {
   "cell_type": "markdown",
   "metadata": {},
   "source": [
    "数理モデルを作る際に用いた`jm.Placeholder`にデータを代入するので、Placeholderの名前をkeyに持つ辞書でデータを渡す必要があります。\n",
    "今回の問題では、`N`と`dist`に値を渡す必要があります。"
   ]
  },
  {
   "cell_type": "code",
   "execution_count": 110,
   "metadata": {},
   "outputs": [
    {
     "data": {
      "text/plain": [
       "{'N': 5,\n",
       " 'dist': array([[0.        , 0.7866063 , 0.73643374, 0.84577089, 0.56967619],\n",
       "        [0.7866063 , 0.        , 0.4251585 , 0.21078131, 0.36540009],\n",
       "        [0.73643374, 0.4251585 , 0.        , 0.26950348, 0.64576184],\n",
       "        [0.84577089, 0.21078131, 0.26950348, 0.        , 0.54552992],\n",
       "        [0.56967619, 0.36540009, 0.64576184, 0.54552992, 0.        ]])}"
      ]
     },
     "execution_count": 110,
     "metadata": {},
     "output_type": "execute_result"
    }
   ],
   "source": [
    "XX, XX_T = np.meshgrid(x_pos, x_pos)\n",
    "YY, YY_T = np.meshgrid(y_pos, y_pos)\n",
    "distance = np.sqrt((XX - XX_T)**2 + (YY - YY_T)**2)\n",
    "instance_data = {\n",
    "    \"N\":N,\"dist\": distance\n",
    "}\n",
    "instance_data"
   ]
  },
  {
   "cell_type": "markdown",
   "metadata": {},
   "source": [
    "## JijModeling-Transpilerを用いた数理モデルのQUBOへの変換\n",
    "数理モデルとデータの用意ができたので、次にJijModeling-Transpilerを用いて数理モデルとデータをQUBOに変換します。\n",
    "\n",
    "まずは、QUBOに変換するための関数である`to_pyqubo`をimportします。"
   ]
  },
  {
   "cell_type": "code",
   "execution_count": 26,
   "metadata": {},
   "outputs": [],
   "source": [
    "from jijmodeling.transpiler.pyqubo import to_pyqubo"
   ]
  },
  {
   "cell_type": "markdown",
   "metadata": {},
   "source": [
    "この`to_pyqubo`に作成した数理モデルと問題のデータを与えることでpyquboオブジェクトを作ることができます。\n",
    "ここでは用いませんでしたが、変数の一部をある値に固定したいという場合には、3番目の変数に固定したい変数と値を辞書として与えることで変数の固定化をすることができます。"
   ]
  },
  {
   "cell_type": "code",
   "execution_count": 27,
   "metadata": {},
   "outputs": [],
   "source": [
    "model,cache = to_pyqubo(problem,instance_data,{})"
   ]
  },
  {
   "cell_type": "markdown",
   "metadata": {},
   "source": [
    "得られたpyquboオブジェクトに制約条件の係数の大きさを与え、`to_qubo`を行うことでQUBOを生成することができます。"
   ]
  },
  {
   "cell_type": "code",
   "execution_count": 87,
   "metadata": {},
   "outputs": [],
   "source": [
    "multipliers = {\"onehot_location\":1.0,\"onehot_time\":1.0}\n",
    "Q,offset = model.compile().to_qubo(feed_dict = multipliers)"
   ]
  },
  {
   "cell_type": "markdown",
   "metadata": {},
   "source": [
    "これでQUBOを生成することができました。"
   ]
  },
  {
   "cell_type": "markdown",
   "metadata": {},
   "source": [
    "# OpenJijを用いた最適化の実行\n",
    "ここでまでQUBOが得られているので、このQUBOを用いてこれまでと同様に最適化計算を行うことができます。"
   ]
  },
  {
   "cell_type": "code",
   "execution_count": 88,
   "metadata": {},
   "outputs": [],
   "source": [
    "import openjij as oj"
   ]
  },
  {
   "cell_type": "code",
   "execution_count": 130,
   "metadata": {},
   "outputs": [],
   "source": [
    "sampler = oj.SASampler(num_reads=1)\n",
    "res = sampler.sample_qubo(Q=Q)"
   ]
  },
  {
   "cell_type": "markdown",
   "metadata": {},
   "source": [
    "JijModeling-Transpilerの機能を用いれば、最適化によって得られた結果をよりみやすい形に整形してくれます。\n",
    "そこで、`decode`機能を使ってみましょう。"
   ]
  },
  {
   "cell_type": "code",
   "execution_count": 131,
   "metadata": {},
   "outputs": [
    {
     "data": {
      "text/plain": [
       "SampleSet(record=Record(solution={'x': [(([0, 1, 2, 3, 4], [0, 2, 3, 1, 4]), [1, 1, 1, 1, 1], ())]}, num_occurrences=[1]), evaluation=Evaluation(energy=[-7.848205186671935], objective=[2.151794813328065], constraint_violations={'onehot_location': [0.0], 'onehot_time': [0.0]}, penalty={}), measuring_time=MeasuringTime(solve=SolvingTime(preprocess=None, solve=None, postprocess=None), system=SystemTime(post_problem_and_instance_data=None, request_queue=None, fetch_problem_and_instance_data=None, fetch_result=None, deserialize_solution=None), total=None))"
      ]
     },
     "execution_count": 131,
     "metadata": {},
     "output_type": "execute_result"
    }
   ],
   "source": [
    "result = cache.decode(res)\n",
    "result"
   ]
  },
  {
   "cell_type": "markdown",
   "metadata": {},
   "source": [
    "得られた解は`result.record`の`solution`の中に入っています。\n",
    "この中に結果は疎行列の形で入っています。\n",
    "大事なのが最初の二つの要素で、ひとつ目が行列の中のindexそして、二つ目がそのindexにおける値が入っています。\n",
    "バイナリ変数の場合には、1となった値のみが入っているので、通常、値には1しか入っていません。"
   ]
  },
  {
   "cell_type": "code",
   "execution_count": 132,
   "metadata": {},
   "outputs": [
    {
     "data": {
      "text/plain": [
       "([0, 1, 2, 3, 4], [0, 2, 3, 1, 4])"
      ]
     },
     "execution_count": 132,
     "metadata": {},
     "output_type": "execute_result"
    }
   ],
   "source": [
    "sparse_index,value,_ = result.record.solution['x'][0]\n",
    "sparse_index"
   ]
  },
  {
   "cell_type": "markdown",
   "metadata": {},
   "source": [
    "`result.evaluation`の中には、最適化によって得られた評価値として、エネルギーや目的関数、そして、制約条件の破れが入っています。\n",
    "ここで、制約条件を満たした解が得られたかをチェックしてみます。"
   ]
  },
  {
   "cell_type": "code",
   "execution_count": 133,
   "metadata": {},
   "outputs": [
    {
     "data": {
      "text/plain": [
       "{'onehot_location': [0.0], 'onehot_time': [0.0]}"
      ]
     },
     "execution_count": 133,
     "metadata": {},
     "output_type": "execute_result"
    }
   ],
   "source": [
    "result.evaluation.constraint_violations"
   ]
  },
  {
   "cell_type": "markdown",
   "metadata": {},
   "source": [
    "制約条件を満たした解が得られているようです。\n",
    "\n",
    "そこで、この解を可視化してみましょう。\n",
    "ルートをプロットする場合には、時間に関するindexを用いて、都市のindexをソートしてあげることで、どの順番に都市を回るかという順序を得ることができます。"
   ]
  },
  {
   "cell_type": "code",
   "execution_count": 134,
   "metadata": {},
   "outputs": [
    {
     "data": {
      "text/plain": [
       "((0, 1, 2, 3, 4), (0, 2, 3, 1, 4))"
      ]
     },
     "execution_count": 134,
     "metadata": {},
     "output_type": "execute_result"
    }
   ],
   "source": [
    "time_indices, city_indices = zip(*sorted(zip(*sparse_index)))\n",
    "time_indices, city_indices"
   ]
  },
  {
   "cell_type": "code",
   "execution_count": 135,
   "metadata": {},
   "outputs": [
    {
     "data": {
      "text/plain": [
       "[<matplotlib.lines.Line2D at 0x7f73366257f0>]"
      ]
     },
     "execution_count": 135,
     "metadata": {},
     "output_type": "execute_result"
    },
    {
     "data": {
      "image/png": "[encoded data removed]",
      "text/plain": [
       "<Figure size 640x480 with 1 Axes>"
      ]
     },
     "metadata": {},
     "output_type": "display_data"
    }
   ],
   "source": [
    "plt.plot(x_pos, y_pos, 'o',markersize=12)\n",
    "plt.xlim(0, 1)\n",
    "plt.ylim(0, 1)\n",
    "\n",
    "for i, city_index in enumerate(city_indices[:-1]):\n",
    "    next_city_index = city_indices[i+1]\n",
    "    plt.plot([x_pos[city_index],x_pos[next_city_index ]],[y_pos[city_index],y_pos[next_city_index ]],c = \"blue\")\n",
    "    \n",
    "plt.plot([x_pos[city_indices[-1]],x_pos[city_indices[0]]],[y_pos[city_indices[-1]],y_pos[city_indices[0]]],c = \"blue\")"
   ]
  }
 ],
 "metadata": {
  "kernelspec": {
   "display_name": "Python 3 (ipykernel)",
   "language": "python",
   "name": "python3"
  },
  "language_info": {
   "codemirror_mode": {
    "name": "ipython",
    "version": 3
   },
   "file_extension": ".py",
   "mimetype": "text/x-python",
   "name": "python",
   "nbconvert_exporter": "python",
   "pygments_lexer": "ipython3",
   "version": "3.9.12"
  },
  "vscode": {
   "interpreter": {
    "hash": "24f650bf839eee818dd87575778d93a60183c6ddc83fae4afc02aa1538e4aa63"
   }
  }
 },
 "nbformat": 4,
 "nbformat_minor": 4
}
